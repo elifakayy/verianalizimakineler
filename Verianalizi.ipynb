{
 "cells": [
  {
   "cell_type": "code",
   "execution_count": 1,
   "id": "344a455d",
   "metadata": {},
   "outputs": [],
   "source": [
    "import pandas as pd"
   ]
  },
  {
   "cell_type": "code",
   "execution_count": 2,
   "id": "fbca4bb3",
   "metadata": {},
   "outputs": [],
   "source": [
    "df = pd.read_csv('bakimdurusanalizyapilacak.csv', delimiter=';', skiprows=0, low_memory=False)\n"
   ]
  },
  {
   "cell_type": "markdown",
   "id": "6f165d2d",
   "metadata": {},
   "source": [
    "df.head()"
   ]
  },
  {
   "cell_type": "markdown",
   "id": "f9c27bd5",
   "metadata": {},
   "source": [
    "# veri tiplerine bakıyoruz\n"
   ]
  },
  {
   "cell_type": "code",
   "execution_count": 3,
   "id": "bd65fa12",
   "metadata": {},
   "outputs": [
    {
     "data": {
      "text/plain": [
       "Makine                       object\n",
       "Stok kodu                    object\n",
       "Başlangıç Tarih              object\n",
       "Bitiş Tarih                  object\n",
       "Personel                     object\n",
       "Arıza Grup 1                 object\n",
       "Arıza Grup 2                 object\n",
       "Arıza Grup 3                 object\n",
       "Çalışma Süresi(Dk) Toplam     int64\n",
       "yıl                           int64\n",
       "tezgah                       object\n",
       "dtype: object"
      ]
     },
     "execution_count": 3,
     "metadata": {},
     "output_type": "execute_result"
    }
   ],
   "source": [
    "df.dtypes"
   ]
  },
  {
   "cell_type": "code",
   "execution_count": 4,
   "id": "5c005dd7",
   "metadata": {},
   "outputs": [
    {
     "data": {
      "text/plain": [
       "(2000, 11)"
      ]
     },
     "execution_count": 4,
     "metadata": {},
     "output_type": "execute_result"
    }
   ],
   "source": [
    "df.shape"
   ]
  },
  {
   "cell_type": "markdown",
   "id": "27cbbfdf",
   "metadata": {},
   "source": [
    "# Eksik Değerlerin İncelenmesi"
   ]
  },
  {
   "cell_type": "code",
   "execution_count": 5,
   "id": "f6e1ef90",
   "metadata": {},
   "outputs": [
    {
     "data": {
      "text/plain": [
       "Makine                         0\n",
       "Stok kodu                      0\n",
       "Başlangıç Tarih                0\n",
       "Bitiş Tarih                    0\n",
       "Personel                       0\n",
       "Arıza Grup 1                   0\n",
       "Arıza Grup 2                   0\n",
       "Arıza Grup 3                 758\n",
       "Çalışma Süresi(Dk) Toplam      0\n",
       "yıl                            0\n",
       "tezgah                         0\n",
       "dtype: int64"
      ]
     },
     "execution_count": 5,
     "metadata": {},
     "output_type": "execute_result"
    }
   ],
   "source": [
    "df.isnull().sum()"
   ]
  },
  {
   "cell_type": "markdown",
   "id": "f86f51d6",
   "metadata": {},
   "source": [
    "# Kategorik Değişkenler ve Özetleri"
   ]
  },
  {
   "cell_type": "code",
   "execution_count": 6,
   "id": "a0665ac6",
   "metadata": {},
   "outputs": [],
   "source": [
    "kat_df = df.select_dtypes(include = [\"object\"])"
   ]
  },
  {
   "cell_type": "code",
   "execution_count": 7,
   "id": "5a6a2371",
   "metadata": {},
   "outputs": [
    {
     "data": {
      "text/html": [
       "<div>\n",
       "<style scoped>\n",
       "    .dataframe tbody tr th:only-of-type {\n",
       "        vertical-align: middle;\n",
       "    }\n",
       "\n",
       "    .dataframe tbody tr th {\n",
       "        vertical-align: top;\n",
       "    }\n",
       "\n",
       "    .dataframe thead th {\n",
       "        text-align: right;\n",
       "    }\n",
       "</style>\n",
       "<table border=\"1\" class=\"dataframe\">\n",
       "  <thead>\n",
       "    <tr style=\"text-align: right;\">\n",
       "      <th></th>\n",
       "      <th>Makine</th>\n",
       "      <th>Stok kodu</th>\n",
       "      <th>Başlangıç Tarih</th>\n",
       "      <th>Bitiş Tarih</th>\n",
       "      <th>Personel</th>\n",
       "      <th>Arıza Grup 1</th>\n",
       "      <th>Arıza Grup 2</th>\n",
       "      <th>Arıza Grup 3</th>\n",
       "      <th>tezgah</th>\n",
       "    </tr>\n",
       "  </thead>\n",
       "  <tbody>\n",
       "    <tr>\n",
       "      <th>0</th>\n",
       "      <td>(C 02) MAZAK QT-28N (TORNA)</td>\n",
       "      <td>001-0827-00000000030</td>\n",
       "      <td>12.01.2018 03:52</td>\n",
       "      <td>12.01.2018 03:59</td>\n",
       "      <td>ALI RIZA EREN</td>\n",
       "      <td>(04) ARIZA</td>\n",
       "      <td>(4.7) BAKIMCI BEKLEME</td>\n",
       "      <td>NaN</td>\n",
       "      <td>C 02</td>\n",
       "    </tr>\n",
       "    <tr>\n",
       "      <th>1</th>\n",
       "      <td>(C 02) MAZAK QT-28N (TORNA)</td>\n",
       "      <td>001-0827-00000000030</td>\n",
       "      <td>12.01.2018 04:00</td>\n",
       "      <td>12.01.2018 04:02</td>\n",
       "      <td>ALI RIZA EREN</td>\n",
       "      <td>(04) ARIZA</td>\n",
       "      <td>(4.7) BAKIMCI BEKLEME</td>\n",
       "      <td>NaN</td>\n",
       "      <td>C 02</td>\n",
       "    </tr>\n",
       "    <tr>\n",
       "      <th>2</th>\n",
       "      <td>(C 02) MAZAK QT-28N (TORNA)</td>\n",
       "      <td>001-0827-00000000030</td>\n",
       "      <td>12.01.2018 04:02</td>\n",
       "      <td>12.01.2018 04:22</td>\n",
       "      <td>GÖKHAN GÖK</td>\n",
       "      <td>(04) ARIZA</td>\n",
       "      <td>(4.2) MEKANIK ARIZA</td>\n",
       "      <td>(4.2.3) KAYIS, KAPLIN, REDÜKTÖR, KASNAK</td>\n",
       "      <td>C 02</td>\n",
       "    </tr>\n",
       "    <tr>\n",
       "      <th>3</th>\n",
       "      <td>(C 02) MAZAK QT-28N (TORNA)</td>\n",
       "      <td>001-0827-00000000030</td>\n",
       "      <td>5.02.2018 23:40</td>\n",
       "      <td>5.02.2018 23:57</td>\n",
       "      <td>ALI RIZA EREN</td>\n",
       "      <td>(04) ARIZA</td>\n",
       "      <td>(4.7) BAKIMCI BEKLEME</td>\n",
       "      <td>NaN</td>\n",
       "      <td>C 02</td>\n",
       "    </tr>\n",
       "    <tr>\n",
       "      <th>4</th>\n",
       "      <td>(C 02) MAZAK QT-28N (TORNA)</td>\n",
       "      <td>001-0827-00000000030</td>\n",
       "      <td>30.03.2018 14:22</td>\n",
       "      <td>30.03.2018 14:33</td>\n",
       "      <td>ALI RIZA EREN</td>\n",
       "      <td>(04) ARIZA</td>\n",
       "      <td>(4.7) BAKIMCI BEKLEME</td>\n",
       "      <td>NaN</td>\n",
       "      <td>C 02</td>\n",
       "    </tr>\n",
       "  </tbody>\n",
       "</table>\n",
       "</div>"
      ],
      "text/plain": [
       "                        Makine             Stok kodu   Başlangıç Tarih  \\\n",
       "0  (C 02) MAZAK QT-28N (TORNA)  001-0827-00000000030  12.01.2018 03:52   \n",
       "1  (C 02) MAZAK QT-28N (TORNA)  001-0827-00000000030  12.01.2018 04:00   \n",
       "2  (C 02) MAZAK QT-28N (TORNA)  001-0827-00000000030  12.01.2018 04:02   \n",
       "3  (C 02) MAZAK QT-28N (TORNA)  001-0827-00000000030   5.02.2018 23:40   \n",
       "4  (C 02) MAZAK QT-28N (TORNA)  001-0827-00000000030  30.03.2018 14:22   \n",
       "\n",
       "        Bitiş Tarih       Personel Arıza Grup 1           Arıza Grup 2  \\\n",
       "0  12.01.2018 03:59  ALI RIZA EREN   (04) ARIZA  (4.7) BAKIMCI BEKLEME   \n",
       "1  12.01.2018 04:02  ALI RIZA EREN   (04) ARIZA  (4.7) BAKIMCI BEKLEME   \n",
       "2  12.01.2018 04:22     GÖKHAN GÖK   (04) ARIZA    (4.2) MEKANIK ARIZA   \n",
       "3   5.02.2018 23:57  ALI RIZA EREN   (04) ARIZA  (4.7) BAKIMCI BEKLEME   \n",
       "4  30.03.2018 14:33  ALI RIZA EREN   (04) ARIZA  (4.7) BAKIMCI BEKLEME   \n",
       "\n",
       "                              Arıza Grup 3 tezgah  \n",
       "0                                      NaN   C 02  \n",
       "1                                      NaN   C 02  \n",
       "2  (4.2.3) KAYIS, KAPLIN, REDÜKTÖR, KASNAK   C 02  \n",
       "3                                      NaN   C 02  \n",
       "4                                      NaN   C 02  "
      ]
     },
     "execution_count": 7,
     "metadata": {},
     "output_type": "execute_result"
    }
   ],
   "source": [
    "kat_df.head()"
   ]
  },
  {
   "cell_type": "code",
   "execution_count": 8,
   "id": "b23212f1",
   "metadata": {},
   "outputs": [
    {
     "data": {
      "text/plain": [
       "array(['(C 02) MAZAK QT-28N (TORNA)', '(C 10) MAZAK QT-28N (TORNA)',\n",
       "       '(C 100) MAZAK QTN-II-200 (TORNA)',\n",
       "       '(C 101) MAZAK QTN-II-150 (TORNA)',\n",
       "       '(C 102) MAZAK QTN-II-150 (TORNA)',\n",
       "       '(C 103) MAZAK QTN-II-150 (TORNA)', '(C 105) MAZAK HCN-5000 (YİM)',\n",
       "       '(C 107) LİMİT KGS16324HO (NC TAŞLAMA)',\n",
       "       '(C 108) MAZAK QTN-250 II (TORNA)',\n",
       "       '(C 109) MAZAK QTN-250 II (TORNA)',\n",
       "       '(C 110) MAZAK VTC-200-C (DİM)', '(C 112) MAZAK HCN-6800 II (YİM)'],\n",
       "      dtype=object)"
      ]
     },
     "execution_count": 8,
     "metadata": {},
     "output_type": "execute_result"
    }
   ],
   "source": [
    "kat_df.Makine.unique()"
   ]
  },
  {
   "cell_type": "code",
   "execution_count": 9,
   "id": "867584ec",
   "metadata": {},
   "outputs": [
    {
     "data": {
      "text/plain": [
       "(C 112) MAZAK HCN-6800 II (YİM)          591\n",
       "(C 102) MAZAK QTN-II-150 (TORNA)         354\n",
       "(C 110) MAZAK VTC-200-C (DİM)            291\n",
       "(C 101) MAZAK QTN-II-150 (TORNA)         149\n",
       "(C 02) MAZAK QT-28N (TORNA)              137\n",
       "(C 103) MAZAK QTN-II-150 (TORNA)         125\n",
       "(C 10) MAZAK QT-28N (TORNA)              104\n",
       "(C 107) LİMİT KGS16324HO (NC TAŞLAMA)     63\n",
       "(C 105) MAZAK HCN-5000 (YİM)              55\n",
       "(C 109) MAZAK QTN-250 II (TORNA)          53\n",
       "(C 100) MAZAK QTN-II-200 (TORNA)          48\n",
       "(C 108) MAZAK QTN-250 II (TORNA)          30\n",
       "Name: Makine, dtype: int64"
      ]
     },
     "execution_count": 9,
     "metadata": {},
     "output_type": "execute_result"
    }
   ],
   "source": [
    "kat_df[\"Makine\"].value_counts()"
   ]
  },
  {
   "cell_type": "code",
   "execution_count": 10,
   "id": "8ee5136c",
   "metadata": {},
   "outputs": [
    {
     "data": {
      "image/png": "[encoded data removed]",
      "text/plain": [
       "<Figure size 432x288 with 1 Axes>"
      ]
     },
     "metadata": {
      "needs_background": "light"
     },
     "output_type": "display_data"
    }
   ],
   "source": [
    "df[\"Makine\"].value_counts().plot.barh();"
   ]
  },
  {
   "cell_type": "markdown",
   "id": "e8691101",
   "metadata": {},
   "source": [
    "# Dağılım Grafikleri"
   ]
  },
  {
   "cell_type": "code",
   "execution_count": 11,
   "id": "4bd8a863",
   "metadata": {},
   "outputs": [
    {
     "name": "stdout",
     "output_type": "stream",
     "text": [
      "<class 'pandas.core.frame.DataFrame'>\n",
      "RangeIndex: 2000 entries, 0 to 1999\n",
      "Data columns (total 11 columns):\n",
      " #   Column                     Non-Null Count  Dtype \n",
      "---  ------                     --------------  ----- \n",
      " 0   Makine                     2000 non-null   object\n",
      " 1   Stok kodu                  2000 non-null   object\n",
      " 2   Başlangıç Tarih            2000 non-null   object\n",
      " 3   Bitiş Tarih                2000 non-null   object\n",
      " 4   Personel                   2000 non-null   object\n",
      " 5   Arıza Grup 1               2000 non-null   object\n",
      " 6   Arıza Grup 2               2000 non-null   object\n",
      " 7   Arıza Grup 3               1242 non-null   object\n",
      " 8   Çalışma Süresi(Dk) Toplam  2000 non-null   int64 \n",
      " 9   yıl                        2000 non-null   int64 \n",
      " 10  tezgah                     2000 non-null   object\n",
      "dtypes: int64(2), object(9)\n",
      "memory usage: 172.0+ KB\n"
     ]
    }
   ],
   "source": [
    "df.info()"
   ]
  },
  {
   "cell_type": "code",
   "execution_count": 12,
   "id": "0898c77a",
   "metadata": {},
   "outputs": [],
   "source": [
    "#ordinal tanımlama \n",
    "from pandas.api.types import CategoricalDtype"
   ]
  },
  {
   "cell_type": "code",
   "execution_count": 13,
   "id": "c6c75465",
   "metadata": {},
   "outputs": [],
   "source": [
    "df.Makine.head()\n",
    "df.Makine = df.Makine.astype(CategoricalDtype(ordered = True))"
   ]
  },
  {
   "cell_type": "code",
   "execution_count": 14,
   "id": "5628c45e",
   "metadata": {},
   "outputs": [
    {
     "data": {
      "text/plain": [
       "<AxesSubplot:>"
      ]
     },
     "execution_count": 14,
     "metadata": {},
     "output_type": "execute_result"
    },
    {
     "data": {
      "image/png": "[encoded data removed]",
      "text/plain": [
       "<Figure size 432x288 with 1 Axes>"
      ]
     },
     "metadata": {
      "needs_background": "light"
     },
     "output_type": "display_data"
    }
   ],
   "source": [
    "df[\"Makine\"].value_counts().plot.barh()"
   ]
  },
  {
   "cell_type": "markdown",
   "id": "b7718d97",
   "metadata": {},
   "source": [
    "# sayısal columnların betimsel istatistik"
   ]
  },
  {
   "cell_type": "code",
   "execution_count": 15,
   "id": "1f4f2dec",
   "metadata": {},
   "outputs": [
    {
     "data": {
      "text/html": [
       "<div>\n",
       "<style scoped>\n",
       "    .dataframe tbody tr th:only-of-type {\n",
       "        vertical-align: middle;\n",
       "    }\n",
       "\n",
       "    .dataframe tbody tr th {\n",
       "        vertical-align: top;\n",
       "    }\n",
       "\n",
       "    .dataframe thead th {\n",
       "        text-align: right;\n",
       "    }\n",
       "</style>\n",
       "<table border=\"1\" class=\"dataframe\">\n",
       "  <thead>\n",
       "    <tr style=\"text-align: right;\">\n",
       "      <th></th>\n",
       "      <th>Çalışma Süresi(Dk) Toplam</th>\n",
       "      <th>yıl</th>\n",
       "    </tr>\n",
       "  </thead>\n",
       "  <tbody>\n",
       "    <tr>\n",
       "      <th>count</th>\n",
       "      <td>2000.000000</td>\n",
       "      <td>2000.0</td>\n",
       "    </tr>\n",
       "    <tr>\n",
       "      <th>mean</th>\n",
       "      <td>38.580500</td>\n",
       "      <td>2018.0</td>\n",
       "    </tr>\n",
       "    <tr>\n",
       "      <th>std</th>\n",
       "      <td>62.070991</td>\n",
       "      <td>0.0</td>\n",
       "    </tr>\n",
       "    <tr>\n",
       "      <th>min</th>\n",
       "      <td>1.000000</td>\n",
       "      <td>2018.0</td>\n",
       "    </tr>\n",
       "    <tr>\n",
       "      <th>25%</th>\n",
       "      <td>10.000000</td>\n",
       "      <td>2018.0</td>\n",
       "    </tr>\n",
       "    <tr>\n",
       "      <th>50%</th>\n",
       "      <td>30.000000</td>\n",
       "      <td>2018.0</td>\n",
       "    </tr>\n",
       "    <tr>\n",
       "      <th>75%</th>\n",
       "      <td>59.000000</td>\n",
       "      <td>2018.0</td>\n",
       "    </tr>\n",
       "    <tr>\n",
       "      <th>max</th>\n",
       "      <td>1732.000000</td>\n",
       "      <td>2018.0</td>\n",
       "    </tr>\n",
       "  </tbody>\n",
       "</table>\n",
       "</div>"
      ],
      "text/plain": [
       "       Çalışma Süresi(Dk) Toplam     yıl\n",
       "count                2000.000000  2000.0\n",
       "mean                   38.580500  2018.0\n",
       "std                    62.070991     0.0\n",
       "min                     1.000000  2018.0\n",
       "25%                    10.000000  2018.0\n",
       "50%                    30.000000  2018.0\n",
       "75%                    59.000000  2018.0\n",
       "max                  1732.000000  2018.0"
      ]
     },
     "execution_count": 15,
     "metadata": {},
     "output_type": "execute_result"
    }
   ],
   "source": [
    "df.describe()"
   ]
  },
  {
   "cell_type": "markdown",
   "id": "af27e808",
   "metadata": {},
   "source": [
    "####df columndan değer seçme, bir makinanın değerlerini yazdırma"
   ]
  },
  {
   "cell_type": "code",
   "execution_count": 16,
   "id": "41190876",
   "metadata": {},
   "outputs": [
    {
     "data": {
      "text/html": [
       "<div>\n",
       "<style scoped>\n",
       "    .dataframe tbody tr th:only-of-type {\n",
       "        vertical-align: middle;\n",
       "    }\n",
       "\n",
       "    .dataframe tbody tr th {\n",
       "        vertical-align: top;\n",
       "    }\n",
       "\n",
       "    .dataframe thead th {\n",
       "        text-align: right;\n",
       "    }\n",
       "</style>\n",
       "<table border=\"1\" class=\"dataframe\">\n",
       "  <thead>\n",
       "    <tr style=\"text-align: right;\">\n",
       "      <th></th>\n",
       "      <th>Makine</th>\n",
       "      <th>Stok kodu</th>\n",
       "      <th>Başlangıç Tarih</th>\n",
       "      <th>Bitiş Tarih</th>\n",
       "      <th>Personel</th>\n",
       "      <th>Arıza Grup 1</th>\n",
       "      <th>Arıza Grup 2</th>\n",
       "      <th>Arıza Grup 3</th>\n",
       "      <th>Çalışma Süresi(Dk) Toplam</th>\n",
       "      <th>yıl</th>\n",
       "      <th>tezgah</th>\n",
       "    </tr>\n",
       "  </thead>\n",
       "  <tbody>\n",
       "    <tr>\n",
       "      <th>1409</th>\n",
       "      <td>(C 112) MAZAK HCN-6800 II (YİM)</td>\n",
       "      <td>9,13E+19</td>\n",
       "      <td>2.01.2018 07:18</td>\n",
       "      <td>2.01.2018 07:31</td>\n",
       "      <td>CAN ALBAYRAK</td>\n",
       "      <td>(04) ARIZA</td>\n",
       "      <td>(4.7) BAKIMCI BEKLEME</td>\n",
       "      <td>NaN</td>\n",
       "      <td>13</td>\n",
       "      <td>2018</td>\n",
       "      <td>C 112</td>\n",
       "    </tr>\n",
       "    <tr>\n",
       "      <th>1410</th>\n",
       "      <td>(C 112) MAZAK HCN-6800 II (YİM)</td>\n",
       "      <td>9,13E+19</td>\n",
       "      <td>2.01.2018 07:37</td>\n",
       "      <td>2.01.2018 07:59</td>\n",
       "      <td>CAN ALBAYRAK</td>\n",
       "      <td>(04) ARIZA</td>\n",
       "      <td>(4.7) BAKIMCI BEKLEME</td>\n",
       "      <td>NaN</td>\n",
       "      <td>22</td>\n",
       "      <td>2018</td>\n",
       "      <td>C 112</td>\n",
       "    </tr>\n",
       "    <tr>\n",
       "      <th>1411</th>\n",
       "      <td>(C 112) MAZAK HCN-6800 II (YİM)</td>\n",
       "      <td>9,13E+19</td>\n",
       "      <td>2.01.2018 08:00</td>\n",
       "      <td>2.01.2018 08:05</td>\n",
       "      <td>CAN ALBAYRAK</td>\n",
       "      <td>(04) ARIZA</td>\n",
       "      <td>(4.7) BAKIMCI BEKLEME</td>\n",
       "      <td>NaN</td>\n",
       "      <td>5</td>\n",
       "      <td>2018</td>\n",
       "      <td>C 112</td>\n",
       "    </tr>\n",
       "    <tr>\n",
       "      <th>1412</th>\n",
       "      <td>(C 112) MAZAK HCN-6800 II (YİM)</td>\n",
       "      <td>9,13E+19</td>\n",
       "      <td>2.01.2018 08:05</td>\n",
       "      <td>2.01.2018 08:22</td>\n",
       "      <td>ARİF TARIM</td>\n",
       "      <td>(04) ARIZA</td>\n",
       "      <td>(4.1) ELEKTRIK ARIZA</td>\n",
       "      <td>(4.1.4) SWITCH, SENSOR, PROB</td>\n",
       "      <td>17</td>\n",
       "      <td>2018</td>\n",
       "      <td>C 112</td>\n",
       "    </tr>\n",
       "    <tr>\n",
       "      <th>1413</th>\n",
       "      <td>(C 112) MAZAK HCN-6800 II (YİM)</td>\n",
       "      <td>9,13E+19</td>\n",
       "      <td>5.01.2018 09:10</td>\n",
       "      <td>5.01.2018 09:59</td>\n",
       "      <td>CAN ALBAYRAK</td>\n",
       "      <td>(04) ARIZA</td>\n",
       "      <td>(4.7) BAKIMCI BEKLEME</td>\n",
       "      <td>NaN</td>\n",
       "      <td>49</td>\n",
       "      <td>2018</td>\n",
       "      <td>C 112</td>\n",
       "    </tr>\n",
       "    <tr>\n",
       "      <th>...</th>\n",
       "      <td>...</td>\n",
       "      <td>...</td>\n",
       "      <td>...</td>\n",
       "      <td>...</td>\n",
       "      <td>...</td>\n",
       "      <td>...</td>\n",
       "      <td>...</td>\n",
       "      <td>...</td>\n",
       "      <td>...</td>\n",
       "      <td>...</td>\n",
       "      <td>...</td>\n",
       "    </tr>\n",
       "    <tr>\n",
       "      <th>1995</th>\n",
       "      <td>(C 112) MAZAK HCN-6800 II (YİM)</td>\n",
       "      <td>9,13E+19</td>\n",
       "      <td>18.12.2018 16:41</td>\n",
       "      <td>18.12.2018 16:59</td>\n",
       "      <td>FATİH AKYOL</td>\n",
       "      <td>(04) ARIZA</td>\n",
       "      <td>(4.7) BAKIMCI BEKLEME</td>\n",
       "      <td>NaN</td>\n",
       "      <td>18</td>\n",
       "      <td>2018</td>\n",
       "      <td>C 112</td>\n",
       "    </tr>\n",
       "    <tr>\n",
       "      <th>1996</th>\n",
       "      <td>(C 112) MAZAK HCN-6800 II (YİM)</td>\n",
       "      <td>9,13E+19</td>\n",
       "      <td>18.12.2018 17:00</td>\n",
       "      <td>18.12.2018 17:36</td>\n",
       "      <td>FATİH AKYOL</td>\n",
       "      <td>(04) ARIZA</td>\n",
       "      <td>(4.7) BAKIMCI BEKLEME</td>\n",
       "      <td>NaN</td>\n",
       "      <td>36</td>\n",
       "      <td>2018</td>\n",
       "      <td>C 112</td>\n",
       "    </tr>\n",
       "    <tr>\n",
       "      <th>1997</th>\n",
       "      <td>(C 112) MAZAK HCN-6800 II (YİM)</td>\n",
       "      <td>9,13E+19</td>\n",
       "      <td>18.12.2018 17:36</td>\n",
       "      <td>18.12.2018 17:37</td>\n",
       "      <td>ARİF TARIM</td>\n",
       "      <td>(04) ARIZA</td>\n",
       "      <td>(4.2) MEKANIK ARIZA</td>\n",
       "      <td>(4.2.2) KAPI, SAC, COVER</td>\n",
       "      <td>1</td>\n",
       "      <td>2018</td>\n",
       "      <td>C 112</td>\n",
       "    </tr>\n",
       "    <tr>\n",
       "      <th>1998</th>\n",
       "      <td>(C 112) MAZAK HCN-6800 II (YİM)</td>\n",
       "      <td>9,13E+19</td>\n",
       "      <td>18.12.2018 17:57</td>\n",
       "      <td>18.12.2018 17:58</td>\n",
       "      <td>FATİH AKYOL</td>\n",
       "      <td>(04) ARIZA</td>\n",
       "      <td>(4.7) BAKIMCI BEKLEME</td>\n",
       "      <td>NaN</td>\n",
       "      <td>1</td>\n",
       "      <td>2018</td>\n",
       "      <td>C 112</td>\n",
       "    </tr>\n",
       "    <tr>\n",
       "      <th>1999</th>\n",
       "      <td>(C 112) MAZAK HCN-6800 II (YİM)</td>\n",
       "      <td>9,13E+19</td>\n",
       "      <td>18.12.2018 17:58</td>\n",
       "      <td>18.12.2018 17:59</td>\n",
       "      <td>CUMHUR ALTIN</td>\n",
       "      <td>(04) ARIZA</td>\n",
       "      <td>(4.2) MEKANIK ARIZA</td>\n",
       "      <td>(4.2.7) MAGAZIN, ATC</td>\n",
       "      <td>1</td>\n",
       "      <td>2018</td>\n",
       "      <td>C 112</td>\n",
       "    </tr>\n",
       "  </tbody>\n",
       "</table>\n",
       "<p>591 rows × 11 columns</p>\n",
       "</div>"
      ],
      "text/plain": [
       "                               Makine Stok kodu   Başlangıç Tarih  \\\n",
       "1409  (C 112) MAZAK HCN-6800 II (YİM)  9,13E+19   2.01.2018 07:18   \n",
       "1410  (C 112) MAZAK HCN-6800 II (YİM)  9,13E+19   2.01.2018 07:37   \n",
       "1411  (C 112) MAZAK HCN-6800 II (YİM)  9,13E+19   2.01.2018 08:00   \n",
       "1412  (C 112) MAZAK HCN-6800 II (YİM)  9,13E+19   2.01.2018 08:05   \n",
       "1413  (C 112) MAZAK HCN-6800 II (YİM)  9,13E+19   5.01.2018 09:10   \n",
       "...                               ...       ...               ...   \n",
       "1995  (C 112) MAZAK HCN-6800 II (YİM)  9,13E+19  18.12.2018 16:41   \n",
       "1996  (C 112) MAZAK HCN-6800 II (YİM)  9,13E+19  18.12.2018 17:00   \n",
       "1997  (C 112) MAZAK HCN-6800 II (YİM)  9,13E+19  18.12.2018 17:36   \n",
       "1998  (C 112) MAZAK HCN-6800 II (YİM)  9,13E+19  18.12.2018 17:57   \n",
       "1999  (C 112) MAZAK HCN-6800 II (YİM)  9,13E+19  18.12.2018 17:58   \n",
       "\n",
       "           Bitiş Tarih      Personel Arıza Grup 1           Arıza Grup 2  \\\n",
       "1409   2.01.2018 07:31  CAN ALBAYRAK   (04) ARIZA  (4.7) BAKIMCI BEKLEME   \n",
       "1410   2.01.2018 07:59  CAN ALBAYRAK   (04) ARIZA  (4.7) BAKIMCI BEKLEME   \n",
       "1411   2.01.2018 08:05  CAN ALBAYRAK   (04) ARIZA  (4.7) BAKIMCI BEKLEME   \n",
       "1412   2.01.2018 08:22    ARİF TARIM   (04) ARIZA   (4.1) ELEKTRIK ARIZA   \n",
       "1413   5.01.2018 09:59  CAN ALBAYRAK   (04) ARIZA  (4.7) BAKIMCI BEKLEME   \n",
       "...                ...           ...          ...                    ...   \n",
       "1995  18.12.2018 16:59   FATİH AKYOL   (04) ARIZA  (4.7) BAKIMCI BEKLEME   \n",
       "1996  18.12.2018 17:36   FATİH AKYOL   (04) ARIZA  (4.7) BAKIMCI BEKLEME   \n",
       "1997  18.12.2018 17:37    ARİF TARIM   (04) ARIZA    (4.2) MEKANIK ARIZA   \n",
       "1998  18.12.2018 17:58   FATİH AKYOL   (04) ARIZA  (4.7) BAKIMCI BEKLEME   \n",
       "1999  18.12.2018 17:59  CUMHUR ALTIN   (04) ARIZA    (4.2) MEKANIK ARIZA   \n",
       "\n",
       "                      Arıza Grup 3  Çalışma Süresi(Dk) Toplam   yıl tezgah  \n",
       "1409                           NaN                         13  2018  C 112  \n",
       "1410                           NaN                         22  2018  C 112  \n",
       "1411                           NaN                          5  2018  C 112  \n",
       "1412  (4.1.4) SWITCH, SENSOR, PROB                         17  2018  C 112  \n",
       "1413                           NaN                         49  2018  C 112  \n",
       "...                            ...                        ...   ...    ...  \n",
       "1995                           NaN                         18  2018  C 112  \n",
       "1996                           NaN                         36  2018  C 112  \n",
       "1997      (4.2.2) KAPI, SAC, COVER                          1  2018  C 112  \n",
       "1998                           NaN                          1  2018  C 112  \n",
       "1999          (4.2.7) MAGAZIN, ATC                          1  2018  C 112  \n",
       "\n",
       "[591 rows x 11 columns]"
      ]
     },
     "execution_count": 16,
     "metadata": {},
     "output_type": "execute_result"
    }
   ],
   "source": [
    "df[df[\"Makine\"] == \"(C 112) MAZAK HCN-6800 II (YİM)\"]"
   ]
  },
  {
   "cell_type": "markdown",
   "id": "ca50e758",
   "metadata": {},
   "source": [
    "# seçilen colum üzerinde verilerin incelenmesi"
   ]
  },
  {
   "cell_type": "code",
   "execution_count": 17,
   "id": "ae1e37c6",
   "metadata": {},
   "outputs": [
    {
     "data": {
      "text/html": [
       "<div>\n",
       "<style scoped>\n",
       "    .dataframe tbody tr th:only-of-type {\n",
       "        vertical-align: middle;\n",
       "    }\n",
       "\n",
       "    .dataframe tbody tr th {\n",
       "        vertical-align: top;\n",
       "    }\n",
       "\n",
       "    .dataframe thead th {\n",
       "        text-align: right;\n",
       "    }\n",
       "</style>\n",
       "<table border=\"1\" class=\"dataframe\">\n",
       "  <thead>\n",
       "    <tr style=\"text-align: right;\">\n",
       "      <th></th>\n",
       "      <th>Makine</th>\n",
       "      <th>Stok kodu</th>\n",
       "      <th>Başlangıç Tarih</th>\n",
       "      <th>Bitiş Tarih</th>\n",
       "      <th>Personel</th>\n",
       "      <th>Arıza Grup 1</th>\n",
       "      <th>Arıza Grup 2</th>\n",
       "      <th>Arıza Grup 3</th>\n",
       "      <th>Çalışma Süresi(Dk) Toplam</th>\n",
       "      <th>yıl</th>\n",
       "      <th>tezgah</th>\n",
       "    </tr>\n",
       "  </thead>\n",
       "  <tbody>\n",
       "    <tr>\n",
       "      <th>1409</th>\n",
       "      <td>(C 112) MAZAK HCN-6800 II (YİM)</td>\n",
       "      <td>9,13E+19</td>\n",
       "      <td>2.01.2018 07:18</td>\n",
       "      <td>2.01.2018 07:31</td>\n",
       "      <td>CAN ALBAYRAK</td>\n",
       "      <td>(04) ARIZA</td>\n",
       "      <td>(4.7) BAKIMCI BEKLEME</td>\n",
       "      <td>NaN</td>\n",
       "      <td>13</td>\n",
       "      <td>2018</td>\n",
       "      <td>C 112</td>\n",
       "    </tr>\n",
       "    <tr>\n",
       "      <th>1410</th>\n",
       "      <td>(C 112) MAZAK HCN-6800 II (YİM)</td>\n",
       "      <td>9,13E+19</td>\n",
       "      <td>2.01.2018 07:37</td>\n",
       "      <td>2.01.2018 07:59</td>\n",
       "      <td>CAN ALBAYRAK</td>\n",
       "      <td>(04) ARIZA</td>\n",
       "      <td>(4.7) BAKIMCI BEKLEME</td>\n",
       "      <td>NaN</td>\n",
       "      <td>22</td>\n",
       "      <td>2018</td>\n",
       "      <td>C 112</td>\n",
       "    </tr>\n",
       "    <tr>\n",
       "      <th>1411</th>\n",
       "      <td>(C 112) MAZAK HCN-6800 II (YİM)</td>\n",
       "      <td>9,13E+19</td>\n",
       "      <td>2.01.2018 08:00</td>\n",
       "      <td>2.01.2018 08:05</td>\n",
       "      <td>CAN ALBAYRAK</td>\n",
       "      <td>(04) ARIZA</td>\n",
       "      <td>(4.7) BAKIMCI BEKLEME</td>\n",
       "      <td>NaN</td>\n",
       "      <td>5</td>\n",
       "      <td>2018</td>\n",
       "      <td>C 112</td>\n",
       "    </tr>\n",
       "    <tr>\n",
       "      <th>1413</th>\n",
       "      <td>(C 112) MAZAK HCN-6800 II (YİM)</td>\n",
       "      <td>9,13E+19</td>\n",
       "      <td>5.01.2018 09:10</td>\n",
       "      <td>5.01.2018 09:59</td>\n",
       "      <td>CAN ALBAYRAK</td>\n",
       "      <td>(04) ARIZA</td>\n",
       "      <td>(4.7) BAKIMCI BEKLEME</td>\n",
       "      <td>NaN</td>\n",
       "      <td>49</td>\n",
       "      <td>2018</td>\n",
       "      <td>C 112</td>\n",
       "    </tr>\n",
       "    <tr>\n",
       "      <th>1414</th>\n",
       "      <td>(C 112) MAZAK HCN-6800 II (YİM)</td>\n",
       "      <td>9,13E+19</td>\n",
       "      <td>5.01.2018 10:00</td>\n",
       "      <td>5.01.2018 10:13</td>\n",
       "      <td>CAN ALBAYRAK</td>\n",
       "      <td>(04) ARIZA</td>\n",
       "      <td>(4.7) BAKIMCI BEKLEME</td>\n",
       "      <td>NaN</td>\n",
       "      <td>13</td>\n",
       "      <td>2018</td>\n",
       "      <td>C 112</td>\n",
       "    </tr>\n",
       "    <tr>\n",
       "      <th>1423</th>\n",
       "      <td>(C 112) MAZAK HCN-6800 II (YİM)</td>\n",
       "      <td>9,13E+19</td>\n",
       "      <td>15.01.2018 20:09</td>\n",
       "      <td>15.01.2018 20:29</td>\n",
       "      <td>CAN ALBAYRAK</td>\n",
       "      <td>(04) ARIZA</td>\n",
       "      <td>(4.7) BAKIMCI BEKLEME</td>\n",
       "      <td>NaN</td>\n",
       "      <td>20</td>\n",
       "      <td>2018</td>\n",
       "      <td>C 112</td>\n",
       "    </tr>\n",
       "    <tr>\n",
       "      <th>1425</th>\n",
       "      <td>(C 112) MAZAK HCN-6800 II (YİM)</td>\n",
       "      <td>9,13E+19</td>\n",
       "      <td>17.01.2018 16:34</td>\n",
       "      <td>17.01.2018 16:42</td>\n",
       "      <td>CAN ALBAYRAK</td>\n",
       "      <td>(04) ARIZA</td>\n",
       "      <td>(4.7) BAKIMCI BEKLEME</td>\n",
       "      <td>NaN</td>\n",
       "      <td>8</td>\n",
       "      <td>2018</td>\n",
       "      <td>C 112</td>\n",
       "    </tr>\n",
       "    <tr>\n",
       "      <th>1427</th>\n",
       "      <td>(C 112) MAZAK HCN-6800 II (YİM)</td>\n",
       "      <td>9,13E+19</td>\n",
       "      <td>18.01.2018 19:24</td>\n",
       "      <td>18.01.2018 19:32</td>\n",
       "      <td>CAN ALBAYRAK</td>\n",
       "      <td>(04) ARIZA</td>\n",
       "      <td>(4.7) BAKIMCI BEKLEME</td>\n",
       "      <td>NaN</td>\n",
       "      <td>8</td>\n",
       "      <td>2018</td>\n",
       "      <td>C 112</td>\n",
       "    </tr>\n",
       "    <tr>\n",
       "      <th>1438</th>\n",
       "      <td>(C 112) MAZAK HCN-6800 II (YİM)</td>\n",
       "      <td>9,13E+19</td>\n",
       "      <td>24.01.2018 08:17</td>\n",
       "      <td>24.01.2018 08:28</td>\n",
       "      <td>CAN ALBAYRAK</td>\n",
       "      <td>(04) ARIZA</td>\n",
       "      <td>(4.7) BAKIMCI BEKLEME</td>\n",
       "      <td>NaN</td>\n",
       "      <td>11</td>\n",
       "      <td>2018</td>\n",
       "      <td>C 112</td>\n",
       "    </tr>\n",
       "    <tr>\n",
       "      <th>1440</th>\n",
       "      <td>(C 112) MAZAK HCN-6800 II (YİM)</td>\n",
       "      <td>9,13E+19</td>\n",
       "      <td>24.01.2018 11:02</td>\n",
       "      <td>24.01.2018 11:12</td>\n",
       "      <td>CAN ALBAYRAK</td>\n",
       "      <td>(04) ARIZA</td>\n",
       "      <td>(4.7) BAKIMCI BEKLEME</td>\n",
       "      <td>NaN</td>\n",
       "      <td>10</td>\n",
       "      <td>2018</td>\n",
       "      <td>C 112</td>\n",
       "    </tr>\n",
       "    <tr>\n",
       "      <th>1441</th>\n",
       "      <td>(C 112) MAZAK HCN-6800 II (YİM)</td>\n",
       "      <td>9,13E+19</td>\n",
       "      <td>24.01.2018 11:32</td>\n",
       "      <td>24.01.2018 11:42</td>\n",
       "      <td>CAN ALBAYRAK</td>\n",
       "      <td>(04) ARIZA</td>\n",
       "      <td>(4.7) BAKIMCI BEKLEME</td>\n",
       "      <td>NaN</td>\n",
       "      <td>10</td>\n",
       "      <td>2018</td>\n",
       "      <td>C 112</td>\n",
       "    </tr>\n",
       "    <tr>\n",
       "      <th>1443</th>\n",
       "      <td>(C 112) MAZAK HCN-6800 II (YİM)</td>\n",
       "      <td>9,13E+19</td>\n",
       "      <td>24.01.2018 13:54</td>\n",
       "      <td>24.01.2018 13:57</td>\n",
       "      <td>CAN ALBAYRAK</td>\n",
       "      <td>(04) ARIZA</td>\n",
       "      <td>(4.7) BAKIMCI BEKLEME</td>\n",
       "      <td>NaN</td>\n",
       "      <td>3</td>\n",
       "      <td>2018</td>\n",
       "      <td>C 112</td>\n",
       "    </tr>\n",
       "    <tr>\n",
       "      <th>1448</th>\n",
       "      <td>(C 112) MAZAK HCN-6800 II (YİM)</td>\n",
       "      <td>9,13E+19</td>\n",
       "      <td>26.01.2018 09:12</td>\n",
       "      <td>26.01.2018 09:20</td>\n",
       "      <td>CAN ALBAYRAK</td>\n",
       "      <td>(04) ARIZA</td>\n",
       "      <td>(4.7) BAKIMCI BEKLEME</td>\n",
       "      <td>NaN</td>\n",
       "      <td>8</td>\n",
       "      <td>2018</td>\n",
       "      <td>C 112</td>\n",
       "    </tr>\n",
       "    <tr>\n",
       "      <th>1461</th>\n",
       "      <td>(C 112) MAZAK HCN-6800 II (YİM)</td>\n",
       "      <td>9,13E+19</td>\n",
       "      <td>11.02.2018 13:27</td>\n",
       "      <td>11.02.2018 13:48</td>\n",
       "      <td>CAN ALBAYRAK</td>\n",
       "      <td>(04) ARIZA</td>\n",
       "      <td>(4.7) BAKIMCI BEKLEME</td>\n",
       "      <td>NaN</td>\n",
       "      <td>21</td>\n",
       "      <td>2018</td>\n",
       "      <td>C 112</td>\n",
       "    </tr>\n",
       "    <tr>\n",
       "      <th>1478</th>\n",
       "      <td>(C 112) MAZAK HCN-6800 II (YİM)</td>\n",
       "      <td>9,13E+19</td>\n",
       "      <td>27.02.2018 16:17</td>\n",
       "      <td>27.02.2018 16:18</td>\n",
       "      <td>CAN ALBAYRAK</td>\n",
       "      <td>(04) ARIZA</td>\n",
       "      <td>(4.7) BAKIMCI BEKLEME</td>\n",
       "      <td>NaN</td>\n",
       "      <td>1</td>\n",
       "      <td>2018</td>\n",
       "      <td>C 112</td>\n",
       "    </tr>\n",
       "    <tr>\n",
       "      <th>1484</th>\n",
       "      <td>(C 112) MAZAK HCN-6800 II (YİM)</td>\n",
       "      <td>9,13E+19</td>\n",
       "      <td>4.03.2018 07:20</td>\n",
       "      <td>4.03.2018 07:35</td>\n",
       "      <td>CAN ALBAYRAK</td>\n",
       "      <td>(04) ARIZA</td>\n",
       "      <td>(4.7) BAKIMCI BEKLEME</td>\n",
       "      <td>NaN</td>\n",
       "      <td>15</td>\n",
       "      <td>2018</td>\n",
       "      <td>C 112</td>\n",
       "    </tr>\n",
       "    <tr>\n",
       "      <th>1489</th>\n",
       "      <td>(C 112) MAZAK HCN-6800 II (YİM)</td>\n",
       "      <td>9,13E+19</td>\n",
       "      <td>5.03.2018 08:30</td>\n",
       "      <td>5.03.2018 08:39</td>\n",
       "      <td>CAN ALBAYRAK</td>\n",
       "      <td>(04) ARIZA</td>\n",
       "      <td>(4.7) BAKIMCI BEKLEME</td>\n",
       "      <td>NaN</td>\n",
       "      <td>9</td>\n",
       "      <td>2018</td>\n",
       "      <td>C 112</td>\n",
       "    </tr>\n",
       "    <tr>\n",
       "      <th>1492</th>\n",
       "      <td>(C 112) MAZAK HCN-6800 II (YİM)</td>\n",
       "      <td>9,13E+19</td>\n",
       "      <td>5.03.2018 09:15</td>\n",
       "      <td>5.03.2018 09:22</td>\n",
       "      <td>CAN ALBAYRAK</td>\n",
       "      <td>(04) ARIZA</td>\n",
       "      <td>(4.7) BAKIMCI BEKLEME</td>\n",
       "      <td>NaN</td>\n",
       "      <td>7</td>\n",
       "      <td>2018</td>\n",
       "      <td>C 112</td>\n",
       "    </tr>\n",
       "    <tr>\n",
       "      <th>1498</th>\n",
       "      <td>(C 112) MAZAK HCN-6800 II (YİM)</td>\n",
       "      <td>9,13E+19</td>\n",
       "      <td>13.03.2018 06:00</td>\n",
       "      <td>13.03.2018 06:12</td>\n",
       "      <td>CAN ALBAYRAK</td>\n",
       "      <td>(04) ARIZA</td>\n",
       "      <td>(4.7) BAKIMCI BEKLEME</td>\n",
       "      <td>NaN</td>\n",
       "      <td>12</td>\n",
       "      <td>2018</td>\n",
       "      <td>C 112</td>\n",
       "    </tr>\n",
       "    <tr>\n",
       "      <th>1507</th>\n",
       "      <td>(C 112) MAZAK HCN-6800 II (YİM)</td>\n",
       "      <td>9,13E+19</td>\n",
       "      <td>19.03.2018 16:36</td>\n",
       "      <td>19.03.2018 16:45</td>\n",
       "      <td>CAN ALBAYRAK</td>\n",
       "      <td>(04) ARIZA</td>\n",
       "      <td>(4.7) BAKIMCI BEKLEME</td>\n",
       "      <td>NaN</td>\n",
       "      <td>9</td>\n",
       "      <td>2018</td>\n",
       "      <td>C 112</td>\n",
       "    </tr>\n",
       "    <tr>\n",
       "      <th>1511</th>\n",
       "      <td>(C 112) MAZAK HCN-6800 II (YİM)</td>\n",
       "      <td>9,13E+19</td>\n",
       "      <td>19.03.2018 17:49</td>\n",
       "      <td>19.03.2018 17:56</td>\n",
       "      <td>CAN ALBAYRAK</td>\n",
       "      <td>(04) ARIZA</td>\n",
       "      <td>(4.7) BAKIMCI BEKLEME</td>\n",
       "      <td>NaN</td>\n",
       "      <td>7</td>\n",
       "      <td>2018</td>\n",
       "      <td>C 112</td>\n",
       "    </tr>\n",
       "    <tr>\n",
       "      <th>1513</th>\n",
       "      <td>(C 112) MAZAK HCN-6800 II (YİM)</td>\n",
       "      <td>9,13E+19</td>\n",
       "      <td>19.03.2018 19:09</td>\n",
       "      <td>19.03.2018 19:11</td>\n",
       "      <td>CAN ALBAYRAK</td>\n",
       "      <td>(04) ARIZA</td>\n",
       "      <td>(4.7) BAKIMCI BEKLEME</td>\n",
       "      <td>NaN</td>\n",
       "      <td>2</td>\n",
       "      <td>2018</td>\n",
       "      <td>C 112</td>\n",
       "    </tr>\n",
       "    <tr>\n",
       "      <th>1530</th>\n",
       "      <td>(C 112) MAZAK HCN-6800 II (YİM)</td>\n",
       "      <td>9,13E+19</td>\n",
       "      <td>29.03.2018 10:29</td>\n",
       "      <td>29.03.2018 10:35</td>\n",
       "      <td>CAN ALBAYRAK</td>\n",
       "      <td>(04) ARIZA</td>\n",
       "      <td>(4.7) BAKIMCI BEKLEME</td>\n",
       "      <td>NaN</td>\n",
       "      <td>6</td>\n",
       "      <td>2018</td>\n",
       "      <td>C 112</td>\n",
       "    </tr>\n",
       "    <tr>\n",
       "      <th>1538</th>\n",
       "      <td>(C 112) MAZAK HCN-6800 II (YİM)</td>\n",
       "      <td>9,13E+19</td>\n",
       "      <td>17.04.2018 14:52</td>\n",
       "      <td>17.04.2018 14:59</td>\n",
       "      <td>CAN ALBAYRAK</td>\n",
       "      <td>(04) ARIZA</td>\n",
       "      <td>(4.7) BAKIMCI BEKLEME</td>\n",
       "      <td>NaN</td>\n",
       "      <td>7</td>\n",
       "      <td>2018</td>\n",
       "      <td>C 112</td>\n",
       "    </tr>\n",
       "    <tr>\n",
       "      <th>1539</th>\n",
       "      <td>(C 112) MAZAK HCN-6800 II (YİM)</td>\n",
       "      <td>9,13E+19</td>\n",
       "      <td>17.04.2018 15:00</td>\n",
       "      <td>17.04.2018 15:31</td>\n",
       "      <td>CAN ALBAYRAK</td>\n",
       "      <td>(04) ARIZA</td>\n",
       "      <td>(4.7) BAKIMCI BEKLEME</td>\n",
       "      <td>NaN</td>\n",
       "      <td>31</td>\n",
       "      <td>2018</td>\n",
       "      <td>C 112</td>\n",
       "    </tr>\n",
       "    <tr>\n",
       "      <th>1543</th>\n",
       "      <td>(C 112) MAZAK HCN-6800 II (YİM)</td>\n",
       "      <td>9,13E+19</td>\n",
       "      <td>21.04.2018 08:12</td>\n",
       "      <td>21.04.2018 08:14</td>\n",
       "      <td>CAN ALBAYRAK</td>\n",
       "      <td>(04) ARIZA</td>\n",
       "      <td>(4.7) BAKIMCI BEKLEME</td>\n",
       "      <td>NaN</td>\n",
       "      <td>2</td>\n",
       "      <td>2018</td>\n",
       "      <td>C 112</td>\n",
       "    </tr>\n",
       "    <tr>\n",
       "      <th>1544</th>\n",
       "      <td>(C 112) MAZAK HCN-6800 II (YİM)</td>\n",
       "      <td>9,13E+19</td>\n",
       "      <td>25.04.2018 06:10</td>\n",
       "      <td>25.04.2018 06:22</td>\n",
       "      <td>CAN ALBAYRAK</td>\n",
       "      <td>(04) ARIZA</td>\n",
       "      <td>(4.7) BAKIMCI BEKLEME</td>\n",
       "      <td>NaN</td>\n",
       "      <td>12</td>\n",
       "      <td>2018</td>\n",
       "      <td>C 112</td>\n",
       "    </tr>\n",
       "    <tr>\n",
       "      <th>1557</th>\n",
       "      <td>(C 112) MAZAK HCN-6800 II (YİM)</td>\n",
       "      <td>9,13E+19</td>\n",
       "      <td>2.05.2018 21:25</td>\n",
       "      <td>2.05.2018 21:28</td>\n",
       "      <td>CAN ALBAYRAK</td>\n",
       "      <td>(04) ARIZA</td>\n",
       "      <td>(4.7) BAKIMCI BEKLEME</td>\n",
       "      <td>NaN</td>\n",
       "      <td>3</td>\n",
       "      <td>2018</td>\n",
       "      <td>C 112</td>\n",
       "    </tr>\n",
       "    <tr>\n",
       "      <th>1560</th>\n",
       "      <td>(C 112) MAZAK HCN-6800 II (YİM)</td>\n",
       "      <td>9,13E+19</td>\n",
       "      <td>10.05.2018 10:40</td>\n",
       "      <td>10.05.2018 10:51</td>\n",
       "      <td>CAN ALBAYRAK</td>\n",
       "      <td>(04) ARIZA</td>\n",
       "      <td>(4.7) BAKIMCI BEKLEME</td>\n",
       "      <td>NaN</td>\n",
       "      <td>11</td>\n",
       "      <td>2018</td>\n",
       "      <td>C 112</td>\n",
       "    </tr>\n",
       "    <tr>\n",
       "      <th>1562</th>\n",
       "      <td>(C 112) MAZAK HCN-6800 II (YİM)</td>\n",
       "      <td>9,13E+19</td>\n",
       "      <td>10.05.2018 11:32</td>\n",
       "      <td>10.05.2018 11:59</td>\n",
       "      <td>CAN ALBAYRAK</td>\n",
       "      <td>(04) ARIZA</td>\n",
       "      <td>(4.7) BAKIMCI BEKLEME</td>\n",
       "      <td>NaN</td>\n",
       "      <td>27</td>\n",
       "      <td>2018</td>\n",
       "      <td>C 112</td>\n",
       "    </tr>\n",
       "    <tr>\n",
       "      <th>1564</th>\n",
       "      <td>(C 112) MAZAK HCN-6800 II (YİM)</td>\n",
       "      <td>9,13E+19</td>\n",
       "      <td>11.05.2018 12:25</td>\n",
       "      <td>11.05.2018 12:55</td>\n",
       "      <td>CAN ALBAYRAK</td>\n",
       "      <td>(04) ARIZA</td>\n",
       "      <td>(4.7) BAKIMCI BEKLEME</td>\n",
       "      <td>NaN</td>\n",
       "      <td>30</td>\n",
       "      <td>2018</td>\n",
       "      <td>C 112</td>\n",
       "    </tr>\n",
       "    <tr>\n",
       "      <th>1565</th>\n",
       "      <td>(C 112) MAZAK HCN-6800 II (YİM)</td>\n",
       "      <td>9,13E+19</td>\n",
       "      <td>12.05.2018 12:42</td>\n",
       "      <td>12.05.2018 12:46</td>\n",
       "      <td>CAN ALBAYRAK</td>\n",
       "      <td>(04) ARIZA</td>\n",
       "      <td>(4.7) BAKIMCI BEKLEME</td>\n",
       "      <td>NaN</td>\n",
       "      <td>4</td>\n",
       "      <td>2018</td>\n",
       "      <td>C 112</td>\n",
       "    </tr>\n",
       "  </tbody>\n",
       "</table>\n",
       "</div>"
      ],
      "text/plain": [
       "                               Makine Stok kodu   Başlangıç Tarih  \\\n",
       "1409  (C 112) MAZAK HCN-6800 II (YİM)  9,13E+19   2.01.2018 07:18   \n",
       "1410  (C 112) MAZAK HCN-6800 II (YİM)  9,13E+19   2.01.2018 07:37   \n",
       "1411  (C 112) MAZAK HCN-6800 II (YİM)  9,13E+19   2.01.2018 08:00   \n",
       "1413  (C 112) MAZAK HCN-6800 II (YİM)  9,13E+19   5.01.2018 09:10   \n",
       "1414  (C 112) MAZAK HCN-6800 II (YİM)  9,13E+19   5.01.2018 10:00   \n",
       "1423  (C 112) MAZAK HCN-6800 II (YİM)  9,13E+19  15.01.2018 20:09   \n",
       "1425  (C 112) MAZAK HCN-6800 II (YİM)  9,13E+19  17.01.2018 16:34   \n",
       "1427  (C 112) MAZAK HCN-6800 II (YİM)  9,13E+19  18.01.2018 19:24   \n",
       "1438  (C 112) MAZAK HCN-6800 II (YİM)  9,13E+19  24.01.2018 08:17   \n",
       "1440  (C 112) MAZAK HCN-6800 II (YİM)  9,13E+19  24.01.2018 11:02   \n",
       "1441  (C 112) MAZAK HCN-6800 II (YİM)  9,13E+19  24.01.2018 11:32   \n",
       "1443  (C 112) MAZAK HCN-6800 II (YİM)  9,13E+19  24.01.2018 13:54   \n",
       "1448  (C 112) MAZAK HCN-6800 II (YİM)  9,13E+19  26.01.2018 09:12   \n",
       "1461  (C 112) MAZAK HCN-6800 II (YİM)  9,13E+19  11.02.2018 13:27   \n",
       "1478  (C 112) MAZAK HCN-6800 II (YİM)  9,13E+19  27.02.2018 16:17   \n",
       "1484  (C 112) MAZAK HCN-6800 II (YİM)  9,13E+19   4.03.2018 07:20   \n",
       "1489  (C 112) MAZAK HCN-6800 II (YİM)  9,13E+19   5.03.2018 08:30   \n",
       "1492  (C 112) MAZAK HCN-6800 II (YİM)  9,13E+19   5.03.2018 09:15   \n",
       "1498  (C 112) MAZAK HCN-6800 II (YİM)  9,13E+19  13.03.2018 06:00   \n",
       "1507  (C 112) MAZAK HCN-6800 II (YİM)  9,13E+19  19.03.2018 16:36   \n",
       "1511  (C 112) MAZAK HCN-6800 II (YİM)  9,13E+19  19.03.2018 17:49   \n",
       "1513  (C 112) MAZAK HCN-6800 II (YİM)  9,13E+19  19.03.2018 19:09   \n",
       "1530  (C 112) MAZAK HCN-6800 II (YİM)  9,13E+19  29.03.2018 10:29   \n",
       "1538  (C 112) MAZAK HCN-6800 II (YİM)  9,13E+19  17.04.2018 14:52   \n",
       "1539  (C 112) MAZAK HCN-6800 II (YİM)  9,13E+19  17.04.2018 15:00   \n",
       "1543  (C 112) MAZAK HCN-6800 II (YİM)  9,13E+19  21.04.2018 08:12   \n",
       "1544  (C 112) MAZAK HCN-6800 II (YİM)  9,13E+19  25.04.2018 06:10   \n",
       "1557  (C 112) MAZAK HCN-6800 II (YİM)  9,13E+19   2.05.2018 21:25   \n",
       "1560  (C 112) MAZAK HCN-6800 II (YİM)  9,13E+19  10.05.2018 10:40   \n",
       "1562  (C 112) MAZAK HCN-6800 II (YİM)  9,13E+19  10.05.2018 11:32   \n",
       "1564  (C 112) MAZAK HCN-6800 II (YİM)  9,13E+19  11.05.2018 12:25   \n",
       "1565  (C 112) MAZAK HCN-6800 II (YİM)  9,13E+19  12.05.2018 12:42   \n",
       "\n",
       "           Bitiş Tarih      Personel Arıza Grup 1           Arıza Grup 2  \\\n",
       "1409   2.01.2018 07:31  CAN ALBAYRAK   (04) ARIZA  (4.7) BAKIMCI BEKLEME   \n",
       "1410   2.01.2018 07:59  CAN ALBAYRAK   (04) ARIZA  (4.7) BAKIMCI BEKLEME   \n",
       "1411   2.01.2018 08:05  CAN ALBAYRAK   (04) ARIZA  (4.7) BAKIMCI BEKLEME   \n",
       "1413   5.01.2018 09:59  CAN ALBAYRAK   (04) ARIZA  (4.7) BAKIMCI BEKLEME   \n",
       "1414   5.01.2018 10:13  CAN ALBAYRAK   (04) ARIZA  (4.7) BAKIMCI BEKLEME   \n",
       "1423  15.01.2018 20:29  CAN ALBAYRAK   (04) ARIZA  (4.7) BAKIMCI BEKLEME   \n",
       "1425  17.01.2018 16:42  CAN ALBAYRAK   (04) ARIZA  (4.7) BAKIMCI BEKLEME   \n",
       "1427  18.01.2018 19:32  CAN ALBAYRAK   (04) ARIZA  (4.7) BAKIMCI BEKLEME   \n",
       "1438  24.01.2018 08:28  CAN ALBAYRAK   (04) ARIZA  (4.7) BAKIMCI BEKLEME   \n",
       "1440  24.01.2018 11:12  CAN ALBAYRAK   (04) ARIZA  (4.7) BAKIMCI BEKLEME   \n",
       "1441  24.01.2018 11:42  CAN ALBAYRAK   (04) ARIZA  (4.7) BAKIMCI BEKLEME   \n",
       "1443  24.01.2018 13:57  CAN ALBAYRAK   (04) ARIZA  (4.7) BAKIMCI BEKLEME   \n",
       "1448  26.01.2018 09:20  CAN ALBAYRAK   (04) ARIZA  (4.7) BAKIMCI BEKLEME   \n",
       "1461  11.02.2018 13:48  CAN ALBAYRAK   (04) ARIZA  (4.7) BAKIMCI BEKLEME   \n",
       "1478  27.02.2018 16:18  CAN ALBAYRAK   (04) ARIZA  (4.7) BAKIMCI BEKLEME   \n",
       "1484   4.03.2018 07:35  CAN ALBAYRAK   (04) ARIZA  (4.7) BAKIMCI BEKLEME   \n",
       "1489   5.03.2018 08:39  CAN ALBAYRAK   (04) ARIZA  (4.7) BAKIMCI BEKLEME   \n",
       "1492   5.03.2018 09:22  CAN ALBAYRAK   (04) ARIZA  (4.7) BAKIMCI BEKLEME   \n",
       "1498  13.03.2018 06:12  CAN ALBAYRAK   (04) ARIZA  (4.7) BAKIMCI BEKLEME   \n",
       "1507  19.03.2018 16:45  CAN ALBAYRAK   (04) ARIZA  (4.7) BAKIMCI BEKLEME   \n",
       "1511  19.03.2018 17:56  CAN ALBAYRAK   (04) ARIZA  (4.7) BAKIMCI BEKLEME   \n",
       "1513  19.03.2018 19:11  CAN ALBAYRAK   (04) ARIZA  (4.7) BAKIMCI BEKLEME   \n",
       "1530  29.03.2018 10:35  CAN ALBAYRAK   (04) ARIZA  (4.7) BAKIMCI BEKLEME   \n",
       "1538  17.04.2018 14:59  CAN ALBAYRAK   (04) ARIZA  (4.7) BAKIMCI BEKLEME   \n",
       "1539  17.04.2018 15:31  CAN ALBAYRAK   (04) ARIZA  (4.7) BAKIMCI BEKLEME   \n",
       "1543  21.04.2018 08:14  CAN ALBAYRAK   (04) ARIZA  (4.7) BAKIMCI BEKLEME   \n",
       "1544  25.04.2018 06:22  CAN ALBAYRAK   (04) ARIZA  (4.7) BAKIMCI BEKLEME   \n",
       "1557   2.05.2018 21:28  CAN ALBAYRAK   (04) ARIZA  (4.7) BAKIMCI BEKLEME   \n",
       "1560  10.05.2018 10:51  CAN ALBAYRAK   (04) ARIZA  (4.7) BAKIMCI BEKLEME   \n",
       "1562  10.05.2018 11:59  CAN ALBAYRAK   (04) ARIZA  (4.7) BAKIMCI BEKLEME   \n",
       "1564  11.05.2018 12:55  CAN ALBAYRAK   (04) ARIZA  (4.7) BAKIMCI BEKLEME   \n",
       "1565  12.05.2018 12:46  CAN ALBAYRAK   (04) ARIZA  (4.7) BAKIMCI BEKLEME   \n",
       "\n",
       "     Arıza Grup 3  Çalışma Süresi(Dk) Toplam   yıl tezgah  \n",
       "1409          NaN                         13  2018  C 112  \n",
       "1410          NaN                         22  2018  C 112  \n",
       "1411          NaN                          5  2018  C 112  \n",
       "1413          NaN                         49  2018  C 112  \n",
       "1414          NaN                         13  2018  C 112  \n",
       "1423          NaN                         20  2018  C 112  \n",
       "1425          NaN                          8  2018  C 112  \n",
       "1427          NaN                          8  2018  C 112  \n",
       "1438          NaN                         11  2018  C 112  \n",
       "1440          NaN                         10  2018  C 112  \n",
       "1441          NaN                         10  2018  C 112  \n",
       "1443          NaN                          3  2018  C 112  \n",
       "1448          NaN                          8  2018  C 112  \n",
       "1461          NaN                         21  2018  C 112  \n",
       "1478          NaN                          1  2018  C 112  \n",
       "1484          NaN                         15  2018  C 112  \n",
       "1489          NaN                          9  2018  C 112  \n",
       "1492          NaN                          7  2018  C 112  \n",
       "1498          NaN                         12  2018  C 112  \n",
       "1507          NaN                          9  2018  C 112  \n",
       "1511          NaN                          7  2018  C 112  \n",
       "1513          NaN                          2  2018  C 112  \n",
       "1530          NaN                          6  2018  C 112  \n",
       "1538          NaN                          7  2018  C 112  \n",
       "1539          NaN                         31  2018  C 112  \n",
       "1543          NaN                          2  2018  C 112  \n",
       "1544          NaN                         12  2018  C 112  \n",
       "1557          NaN                          3  2018  C 112  \n",
       "1560          NaN                         11  2018  C 112  \n",
       "1562          NaN                         27  2018  C 112  \n",
       "1564          NaN                         30  2018  C 112  \n",
       "1565          NaN                          4  2018  C 112  "
      ]
     },
     "execution_count": 17,
     "metadata": {},
     "output_type": "execute_result"
    }
   ],
   "source": [
    "df[(df[\"Makine\"] == \"(C 112) MAZAK HCN-6800 II (YİM)\") & (df[\"Personel\"] == \"CAN ALBAYRAK\")]"
   ]
  },
  {
   "cell_type": "code",
   "execution_count": 18,
   "id": "d76373c2",
   "metadata": {},
   "outputs": [
    {
     "data": {
      "text/plain": [
       "CAN ALBAYRAK    32\n",
       "Name: Personel, dtype: int64"
      ]
     },
     "execution_count": 18,
     "metadata": {},
     "output_type": "execute_result"
    }
   ],
   "source": [
    "df[(df[\"Makine\"] == \"(C 112) MAZAK HCN-6800 II (YİM)\") & (df[\"Personel\"] == \"CAN ALBAYRAK\")][(\"Personel\")].value_counts()"
   ]
  },
  {
   "cell_type": "code",
   "execution_count": 19,
   "id": "c632a9c8",
   "metadata": {},
   "outputs": [],
   "source": [
    "df_ayri=df[(df[\"Makine\"] == \"(C 112) MAZAK HCN-6800 II (YİM)\") & (df[\"Personel\"] == \"CAN ALBAYRAK\")]"
   ]
  },
  {
   "cell_type": "code",
   "execution_count": 20,
   "id": "ea3bc7f4",
   "metadata": {},
   "outputs": [
    {
     "data": {
      "text/plain": [
       "CAN ALBAYRAK    32\n",
       "Name: Personel, dtype: int64"
      ]
     },
     "execution_count": 20,
     "metadata": {},
     "output_type": "execute_result"
    }
   ],
   "source": [
    "df_ayri[(\"Personel\")].value_counts()"
   ]
  },
  {
   "cell_type": "code",
   "execution_count": 21,
   "id": "a8171a10",
   "metadata": {},
   "outputs": [
    {
     "data": {
      "text/plain": [
       "(2000, 11)"
      ]
     },
     "execution_count": 21,
     "metadata": {},
     "output_type": "execute_result"
    }
   ],
   "source": [
    "df.shape                                                             "
   ]
  },
  {
   "cell_type": "code",
   "execution_count": 22,
   "id": "9d1e784f",
   "metadata": {},
   "outputs": [
    {
     "data": {
      "text/plain": [
       "ARİF TARIM         0.1455\n",
       "ELMAS URAK         0.1255\n",
       "MEHMET AKA         0.0825\n",
       "GÖKHAN GÖK         0.0580\n",
       "UMUT DEMİR         0.0555\n",
       "                    ...  \n",
       "MURAT BOZER        0.0005\n",
       "SERCAN EMRE        0.0005\n",
       "HAYDAR KILIÇ       0.0005\n",
       "MÜSLÜM GENÇOGLU    0.0005\n",
       "OSMAN BULUT        0.0005\n",
       "Name: Personel, Length: 78, dtype: float64"
      ]
     },
     "execution_count": 22,
     "metadata": {},
     "output_type": "execute_result"
    }
   ],
   "source": [
    "df[\"Personel\"].value_counts([\"Çalışma Süresi(Dk) Toplam\"])"
   ]
  },
  {
   "cell_type": "code",
   "execution_count": 23,
   "id": "e1c4100f",
   "metadata": {},
   "outputs": [],
   "source": [
    "import numpy as np # linear algebra\n",
    "import pandas as pd # data processing\n",
    "import matplotlib.pyplot as plt\n",
    "import seaborn as sns"
   ]
  },
  {
   "cell_type": "code",
   "execution_count": 24,
   "id": "e95c7dba",
   "metadata": {},
   "outputs": [],
   "source": [
    "df = pd.read_csv('bakimdurusanalizyapilacak.csv', delimiter=';', skiprows=0, low_memory=False) "
   ]
  },
  {
   "cell_type": "code",
   "execution_count": 25,
   "id": "60535c1d",
   "metadata": {},
   "outputs": [
    {
     "data": {
      "text/plain": [
       "<AxesSubplot:xlabel='Çalışma Süresi(Dk) Toplam', ylabel='Count'>"
      ]
     },
     "execution_count": 25,
     "metadata": {},
     "output_type": "execute_result"
    },
    {
     "data": {
      "image/png": "[encoded data removed]",
      "text/plain": [
       "<Figure size 432x288 with 1 Axes>"
      ]
     },
     "metadata": {
      "needs_background": "light"
     },
     "output_type": "display_data"
    }
   ],
   "source": [
    "sns.histplot(df[\"Çalışma Süresi(Dk) Toplam\"])"
   ]
  },
  {
   "cell_type": "code",
   "execution_count": 26,
   "id": "e764cf06",
   "metadata": {},
   "outputs": [],
   "source": [
    "uniqmakineler=df[\"Makine\"].unique()"
   ]
  },
  {
   "cell_type": "code",
   "execution_count": 27,
   "id": "0a763f75",
   "metadata": {
    "scrolled": true
   },
   "outputs": [
    {
     "data": {
      "image/png": "[encoded data removed]",
      "text/plain": [
       "<Figure size 1080x720 with 1 Axes>"
      ]
     },
     "metadata": {},
     "output_type": "display_data"
    }
   ],
   "source": [
    "sns.set_style(\"whitegrid\")\n",
    "plt.figure(figsize=(15,10)) #boyut ayarı\n",
    "for makine in uniqmakineler:\n",
    "    data= df[df[\"Makine\"] == makine][\"Çalışma Süresi(Dk) Toplam\"]\n",
    "    sns.kdeplot(data)\n",
    "    plt.legend(uniqmakineler) #renklerin karşılıkları"
   ]
  },
  {
   "cell_type": "code",
   "execution_count": 28,
   "id": "c3e77616",
   "metadata": {},
   "outputs": [
    {
     "data": {
      "text/plain": [
       "<Figure size 1080x720 with 0 Axes>"
      ]
     },
     "metadata": {},
     "output_type": "display_data"
    }
   ],
   "source": [
    "sns.set_style(\"whitegrid\")\n",
    "plt.figure(figsize=(15,10)) #boyut ayarı\n",
    "for makine in uniqmakineler:\n",
    "    data= df[df[\"Makine\"] == makine][\"Çalışma Süresi(Dk) Toplam\"]\n",
    "    data_ort=df[df[\"Makine\"] == makine][\"Çalışma Süresi(Dk) Toplam\"].mean()\n",
    "    "
   ]
  },
  {
   "cell_type": "code",
   "execution_count": 29,
   "id": "bec6a241",
   "metadata": {},
   "outputs": [
    {
     "data": {
      "text/plain": [
       "array(['(C 02) MAZAK QT-28N (TORNA)', '(C 10) MAZAK QT-28N (TORNA)',\n",
       "       '(C 100) MAZAK QTN-II-200 (TORNA)',\n",
       "       '(C 101) MAZAK QTN-II-150 (TORNA)',\n",
       "       '(C 102) MAZAK QTN-II-150 (TORNA)',\n",
       "       '(C 103) MAZAK QTN-II-150 (TORNA)', '(C 105) MAZAK HCN-5000 (YİM)',\n",
       "       '(C 107) LİMİT KGS16324HO (NC TAŞLAMA)',\n",
       "       '(C 108) MAZAK QTN-250 II (TORNA)',\n",
       "       '(C 109) MAZAK QTN-250 II (TORNA)',\n",
       "       '(C 110) MAZAK VTC-200-C (DİM)', '(C 112) MAZAK HCN-6800 II (YİM)'],\n",
       "      dtype=object)"
      ]
     },
     "execution_count": 29,
     "metadata": {},
     "output_type": "execute_result"
    }
   ],
   "source": [
    "uniqmakineler"
   ]
  },
  {
   "cell_type": "code",
   "execution_count": 30,
   "id": "41a97760",
   "metadata": {},
   "outputs": [
    {
     "data": {
      "text/html": [
       "<div>\n",
       "<style scoped>\n",
       "    .dataframe tbody tr th:only-of-type {\n",
       "        vertical-align: middle;\n",
       "    }\n",
       "\n",
       "    .dataframe tbody tr th {\n",
       "        vertical-align: top;\n",
       "    }\n",
       "\n",
       "    .dataframe thead th {\n",
       "        text-align: right;\n",
       "    }\n",
       "</style>\n",
       "<table border=\"1\" class=\"dataframe\">\n",
       "  <thead>\n",
       "    <tr style=\"text-align: right;\">\n",
       "      <th></th>\n",
       "      <th>Makine</th>\n",
       "      <th>Stok kodu</th>\n",
       "      <th>Başlangıç Tarih</th>\n",
       "      <th>Bitiş Tarih</th>\n",
       "      <th>Personel</th>\n",
       "      <th>Arıza Grup 1</th>\n",
       "      <th>Arıza Grup 2</th>\n",
       "      <th>Arıza Grup 3</th>\n",
       "      <th>Çalışma Süresi(Dk) Toplam</th>\n",
       "      <th>yıl</th>\n",
       "      <th>tezgah</th>\n",
       "    </tr>\n",
       "  </thead>\n",
       "  <tbody>\n",
       "    <tr>\n",
       "      <th>0</th>\n",
       "      <td>(C 02) MAZAK QT-28N (TORNA)</td>\n",
       "      <td>001-0827-00000000030</td>\n",
       "      <td>12.01.2018 03:52</td>\n",
       "      <td>12.01.2018 03:59</td>\n",
       "      <td>ALI RIZA EREN</td>\n",
       "      <td>(04) ARIZA</td>\n",
       "      <td>(4.7) BAKIMCI BEKLEME</td>\n",
       "      <td>NaN</td>\n",
       "      <td>7</td>\n",
       "      <td>2018</td>\n",
       "      <td>C 02</td>\n",
       "    </tr>\n",
       "    <tr>\n",
       "      <th>1</th>\n",
       "      <td>(C 02) MAZAK QT-28N (TORNA)</td>\n",
       "      <td>001-0827-00000000030</td>\n",
       "      <td>12.01.2018 04:00</td>\n",
       "      <td>12.01.2018 04:02</td>\n",
       "      <td>ALI RIZA EREN</td>\n",
       "      <td>(04) ARIZA</td>\n",
       "      <td>(4.7) BAKIMCI BEKLEME</td>\n",
       "      <td>NaN</td>\n",
       "      <td>2</td>\n",
       "      <td>2018</td>\n",
       "      <td>C 02</td>\n",
       "    </tr>\n",
       "    <tr>\n",
       "      <th>2</th>\n",
       "      <td>(C 02) MAZAK QT-28N (TORNA)</td>\n",
       "      <td>001-0827-00000000030</td>\n",
       "      <td>12.01.2018 04:02</td>\n",
       "      <td>12.01.2018 04:22</td>\n",
       "      <td>GÖKHAN GÖK</td>\n",
       "      <td>(04) ARIZA</td>\n",
       "      <td>(4.2) MEKANIK ARIZA</td>\n",
       "      <td>(4.2.3) KAYIS, KAPLIN, REDÜKTÖR, KASNAK</td>\n",
       "      <td>20</td>\n",
       "      <td>2018</td>\n",
       "      <td>C 02</td>\n",
       "    </tr>\n",
       "    <tr>\n",
       "      <th>3</th>\n",
       "      <td>(C 02) MAZAK QT-28N (TORNA)</td>\n",
       "      <td>001-0827-00000000030</td>\n",
       "      <td>5.02.2018 23:40</td>\n",
       "      <td>5.02.2018 23:57</td>\n",
       "      <td>ALI RIZA EREN</td>\n",
       "      <td>(04) ARIZA</td>\n",
       "      <td>(4.7) BAKIMCI BEKLEME</td>\n",
       "      <td>NaN</td>\n",
       "      <td>17</td>\n",
       "      <td>2018</td>\n",
       "      <td>C 02</td>\n",
       "    </tr>\n",
       "    <tr>\n",
       "      <th>4</th>\n",
       "      <td>(C 02) MAZAK QT-28N (TORNA)</td>\n",
       "      <td>001-0827-00000000030</td>\n",
       "      <td>30.03.2018 14:22</td>\n",
       "      <td>30.03.2018 14:33</td>\n",
       "      <td>ALI RIZA EREN</td>\n",
       "      <td>(04) ARIZA</td>\n",
       "      <td>(4.7) BAKIMCI BEKLEME</td>\n",
       "      <td>NaN</td>\n",
       "      <td>11</td>\n",
       "      <td>2018</td>\n",
       "      <td>C 02</td>\n",
       "    </tr>\n",
       "    <tr>\n",
       "      <th>...</th>\n",
       "      <td>...</td>\n",
       "      <td>...</td>\n",
       "      <td>...</td>\n",
       "      <td>...</td>\n",
       "      <td>...</td>\n",
       "      <td>...</td>\n",
       "      <td>...</td>\n",
       "      <td>...</td>\n",
       "      <td>...</td>\n",
       "      <td>...</td>\n",
       "      <td>...</td>\n",
       "    </tr>\n",
       "    <tr>\n",
       "      <th>1995</th>\n",
       "      <td>(C 112) MAZAK HCN-6800 II (YİM)</td>\n",
       "      <td>9,13E+19</td>\n",
       "      <td>18.12.2018 16:41</td>\n",
       "      <td>18.12.2018 16:59</td>\n",
       "      <td>FATİH AKYOL</td>\n",
       "      <td>(04) ARIZA</td>\n",
       "      <td>(4.7) BAKIMCI BEKLEME</td>\n",
       "      <td>NaN</td>\n",
       "      <td>18</td>\n",
       "      <td>2018</td>\n",
       "      <td>C 112</td>\n",
       "    </tr>\n",
       "    <tr>\n",
       "      <th>1996</th>\n",
       "      <td>(C 112) MAZAK HCN-6800 II (YİM)</td>\n",
       "      <td>9,13E+19</td>\n",
       "      <td>18.12.2018 17:00</td>\n",
       "      <td>18.12.2018 17:36</td>\n",
       "      <td>FATİH AKYOL</td>\n",
       "      <td>(04) ARIZA</td>\n",
       "      <td>(4.7) BAKIMCI BEKLEME</td>\n",
       "      <td>NaN</td>\n",
       "      <td>36</td>\n",
       "      <td>2018</td>\n",
       "      <td>C 112</td>\n",
       "    </tr>\n",
       "    <tr>\n",
       "      <th>1997</th>\n",
       "      <td>(C 112) MAZAK HCN-6800 II (YİM)</td>\n",
       "      <td>9,13E+19</td>\n",
       "      <td>18.12.2018 17:36</td>\n",
       "      <td>18.12.2018 17:37</td>\n",
       "      <td>ARİF TARIM</td>\n",
       "      <td>(04) ARIZA</td>\n",
       "      <td>(4.2) MEKANIK ARIZA</td>\n",
       "      <td>(4.2.2) KAPI, SAC, COVER</td>\n",
       "      <td>1</td>\n",
       "      <td>2018</td>\n",
       "      <td>C 112</td>\n",
       "    </tr>\n",
       "    <tr>\n",
       "      <th>1998</th>\n",
       "      <td>(C 112) MAZAK HCN-6800 II (YİM)</td>\n",
       "      <td>9,13E+19</td>\n",
       "      <td>18.12.2018 17:57</td>\n",
       "      <td>18.12.2018 17:58</td>\n",
       "      <td>FATİH AKYOL</td>\n",
       "      <td>(04) ARIZA</td>\n",
       "      <td>(4.7) BAKIMCI BEKLEME</td>\n",
       "      <td>NaN</td>\n",
       "      <td>1</td>\n",
       "      <td>2018</td>\n",
       "      <td>C 112</td>\n",
       "    </tr>\n",
       "    <tr>\n",
       "      <th>1999</th>\n",
       "      <td>(C 112) MAZAK HCN-6800 II (YİM)</td>\n",
       "      <td>9,13E+19</td>\n",
       "      <td>18.12.2018 17:58</td>\n",
       "      <td>18.12.2018 17:59</td>\n",
       "      <td>CUMHUR ALTIN</td>\n",
       "      <td>(04) ARIZA</td>\n",
       "      <td>(4.2) MEKANIK ARIZA</td>\n",
       "      <td>(4.2.7) MAGAZIN, ATC</td>\n",
       "      <td>1</td>\n",
       "      <td>2018</td>\n",
       "      <td>C 112</td>\n",
       "    </tr>\n",
       "  </tbody>\n",
       "</table>\n",
       "<p>2000 rows × 11 columns</p>\n",
       "</div>"
      ],
      "text/plain": [
       "                               Makine             Stok kodu   Başlangıç Tarih  \\\n",
       "0         (C 02) MAZAK QT-28N (TORNA)  001-0827-00000000030  12.01.2018 03:52   \n",
       "1         (C 02) MAZAK QT-28N (TORNA)  001-0827-00000000030  12.01.2018 04:00   \n",
       "2         (C 02) MAZAK QT-28N (TORNA)  001-0827-00000000030  12.01.2018 04:02   \n",
       "3         (C 02) MAZAK QT-28N (TORNA)  001-0827-00000000030   5.02.2018 23:40   \n",
       "4         (C 02) MAZAK QT-28N (TORNA)  001-0827-00000000030  30.03.2018 14:22   \n",
       "...                               ...                   ...               ...   \n",
       "1995  (C 112) MAZAK HCN-6800 II (YİM)              9,13E+19  18.12.2018 16:41   \n",
       "1996  (C 112) MAZAK HCN-6800 II (YİM)              9,13E+19  18.12.2018 17:00   \n",
       "1997  (C 112) MAZAK HCN-6800 II (YİM)              9,13E+19  18.12.2018 17:36   \n",
       "1998  (C 112) MAZAK HCN-6800 II (YİM)              9,13E+19  18.12.2018 17:57   \n",
       "1999  (C 112) MAZAK HCN-6800 II (YİM)              9,13E+19  18.12.2018 17:58   \n",
       "\n",
       "           Bitiş Tarih       Personel Arıza Grup 1           Arıza Grup 2  \\\n",
       "0     12.01.2018 03:59  ALI RIZA EREN   (04) ARIZA  (4.7) BAKIMCI BEKLEME   \n",
       "1     12.01.2018 04:02  ALI RIZA EREN   (04) ARIZA  (4.7) BAKIMCI BEKLEME   \n",
       "2     12.01.2018 04:22     GÖKHAN GÖK   (04) ARIZA    (4.2) MEKANIK ARIZA   \n",
       "3      5.02.2018 23:57  ALI RIZA EREN   (04) ARIZA  (4.7) BAKIMCI BEKLEME   \n",
       "4     30.03.2018 14:33  ALI RIZA EREN   (04) ARIZA  (4.7) BAKIMCI BEKLEME   \n",
       "...                ...            ...          ...                    ...   \n",
       "1995  18.12.2018 16:59    FATİH AKYOL   (04) ARIZA  (4.7) BAKIMCI BEKLEME   \n",
       "1996  18.12.2018 17:36    FATİH AKYOL   (04) ARIZA  (4.7) BAKIMCI BEKLEME   \n",
       "1997  18.12.2018 17:37     ARİF TARIM   (04) ARIZA    (4.2) MEKANIK ARIZA   \n",
       "1998  18.12.2018 17:58    FATİH AKYOL   (04) ARIZA  (4.7) BAKIMCI BEKLEME   \n",
       "1999  18.12.2018 17:59   CUMHUR ALTIN   (04) ARIZA    (4.2) MEKANIK ARIZA   \n",
       "\n",
       "                                 Arıza Grup 3  Çalışma Süresi(Dk) Toplam  \\\n",
       "0                                         NaN                          7   \n",
       "1                                         NaN                          2   \n",
       "2     (4.2.3) KAYIS, KAPLIN, REDÜKTÖR, KASNAK                         20   \n",
       "3                                         NaN                         17   \n",
       "4                                         NaN                         11   \n",
       "...                                       ...                        ...   \n",
       "1995                                      NaN                         18   \n",
       "1996                                      NaN                         36   \n",
       "1997                 (4.2.2) KAPI, SAC, COVER                          1   \n",
       "1998                                      NaN                          1   \n",
       "1999                     (4.2.7) MAGAZIN, ATC                          1   \n",
       "\n",
       "       yıl tezgah  \n",
       "0     2018   C 02  \n",
       "1     2018   C 02  \n",
       "2     2018   C 02  \n",
       "3     2018   C 02  \n",
       "4     2018   C 02  \n",
       "...    ...    ...  \n",
       "1995  2018  C 112  \n",
       "1996  2018  C 112  \n",
       "1997  2018  C 112  \n",
       "1998  2018  C 112  \n",
       "1999  2018  C 112  \n",
       "\n",
       "[2000 rows x 11 columns]"
      ]
     },
     "execution_count": 30,
     "metadata": {},
     "output_type": "execute_result"
    }
   ],
   "source": [
    "df"
   ]
  },
  {
   "cell_type": "code",
   "execution_count": 31,
   "id": "86195afc",
   "metadata": {},
   "outputs": [
    {
     "name": "stdout",
     "output_type": "stream",
     "text": [
      "Makine\n",
      "Stok kodu\n",
      "Başlangıç Tarih\n",
      "Bitiş Tarih\n",
      "Personel\n",
      "Arıza Grup 1\n",
      "Arıza Grup 2\n",
      "Arıza Grup 3\n",
      "Çalışma Süresi(Dk) Toplam\n",
      "yıl\n",
      "tezgah\n"
     ]
    }
   ],
   "source": [
    "for x in df:\n",
    "       print(x)\n",
    "            "
   ]
  },
  {
   "cell_type": "code",
   "execution_count": 83,
   "id": "2424f5be",
   "metadata": {
    "scrolled": true
   },
   "outputs": [
    {
     "name": "stdout",
     "output_type": "stream",
     "text": [
      "(C 02) MAZAK QT-28N (TORNA)  toplam duruş süresi:  5762\n",
      "(C 10) MAZAK QT-28N (TORNA)  toplam duruş süresi:  6409\n",
      "(C 100) MAZAK QTN-II-200 (TORNA)  toplam duruş süresi:  1753\n",
      "(C 101) MAZAK QTN-II-150 (TORNA)  toplam duruş süresi:  6787\n",
      "(C 102) MAZAK QTN-II-150 (TORNA)  toplam duruş süresi:  17445\n",
      "(C 103) MAZAK QTN-II-150 (TORNA)  toplam duruş süresi:  5781\n",
      "(C 105) MAZAK HCN-5000 (YİM)  toplam duruş süresi:  677\n",
      "(C 107) LİMİT KGS16324HO (NC TAŞLAMA)  toplam duruş süresi:  2887\n",
      "(C 108) MAZAK QTN-250 II (TORNA)  toplam duruş süresi:  833\n",
      "(C 109) MAZAK QTN-250 II (TORNA)  toplam duruş süresi:  1156\n",
      "(C 110) MAZAK VTC-200-C (DİM)  toplam duruş süresi:  13416\n",
      "(C 112) MAZAK HCN-6800 II (YİM)  toplam duruş süresi:  14255\n"
     ]
    },
    {
     "data": {
      "text/plain": [
       "[17445, '(C 102) MAZAK QTN-II-150 (TORNA)']"
      ]
     },
     "execution_count": 83,
     "metadata": {},
     "output_type": "execute_result"
    }
   ],
   "source": [
    "makinesüreler=[]\n",
    "for y in uniqmakineler:\n",
    "    sum = 0\n",
    "    for x in range(len(df)):\n",
    "        if df.iloc[x][\"Makine\"] == y:\n",
    "            sum += df.iloc[x][\"Çalışma Süresi(Dk) Toplam\"]\n",
    "    makinesüreler.append([sum,y])                  \n",
    "    print(y , \" toplam duruş süresi: \", sum )\n",
    "    \n",
    "\n",
    "#makinesüreler.sort(reverse = True)\n",
    "\n",
    "\n",
    "max(makinesüreler)"
   ]
  },
  {
   "cell_type": "code",
   "execution_count": 84,
   "id": "e66fbda0",
   "metadata": {},
   "outputs": [
    {
     "data": {
      "text/plain": [
       "[[17445, '(C 102) MAZAK QTN-II-150 (TORNA)'],\n",
       " [14255, '(C 112) MAZAK HCN-6800 II (YİM)'],\n",
       " [13416, '(C 110) MAZAK VTC-200-C (DİM)'],\n",
       " [6787, '(C 101) MAZAK QTN-II-150 (TORNA)'],\n",
       " [6409, '(C 10) MAZAK QT-28N (TORNA)'],\n",
       " [5781, '(C 103) MAZAK QTN-II-150 (TORNA)'],\n",
       " [5762, '(C 02) MAZAK QT-28N (TORNA)'],\n",
       " [2887, '(C 107) LİMİT KGS16324HO (NC TAŞLAMA)'],\n",
       " [1753, '(C 100) MAZAK QTN-II-200 (TORNA)'],\n",
       " [1156, '(C 109) MAZAK QTN-250 II (TORNA)'],\n",
       " [833, '(C 108) MAZAK QTN-250 II (TORNA)'],\n",
       " [677, '(C 105) MAZAK HCN-5000 (YİM)']]"
      ]
     },
     "execution_count": 84,
     "metadata": {},
     "output_type": "execute_result"
    }
   ],
   "source": [
    "makinesüreler.sort(reverse = True) \n",
    "makinesüreler"
   ]
  },
  {
   "cell_type": "code",
   "execution_count": 33,
   "id": "bce760c5",
   "metadata": {},
   "outputs": [
    {
     "data": {
      "image/png": "[encoded data removed]",
      "text/plain": [
       "<Figure size 432x288 with 1 Axes>"
      ]
     },
     "metadata": {},
     "output_type": "display_data"
    }
   ],
   "source": [
    "\n",
    "data = np.array(makinesüreler)\n",
    "\n",
    "\n",
    "plt.bar(data[:,0], data[:,1],label=\"Data 1\")\n",
    "plt.legend()\n",
    "\n",
    "# The following commands add labels to our figure.\n",
    "plt.xlabel('X values')\n",
    "plt.ylabel('Height')\n",
    "plt.title('Vertical Bar chart')\n",
    "\n",
    "plt.show()"
   ]
  },
  {
   "cell_type": "code",
   "execution_count": null,
   "id": "16dd5897",
   "metadata": {},
   "outputs": [],
   "source": []
  },
  {
   "cell_type": "code",
   "execution_count": null,
   "id": "8dba948e",
   "metadata": {},
   "outputs": [],
   "source": []
  },
  {
   "cell_type": "code",
   "execution_count": 34,
   "id": "ab984db3",
   "metadata": {},
   "outputs": [
    {
     "name": "stdout",
     "output_type": "stream",
     "text": [
      "(C 02) MAZAK QT-28N (TORNA)\n"
     ]
    }
   ],
   "source": [
    "print(df.iloc[3][\"Makine\"])"
   ]
  },
  {
   "cell_type": "code",
   "execution_count": 35,
   "id": "1c615e47",
   "metadata": {},
   "outputs": [],
   "source": [
    "#stok kodlarıyla her parçayı ayrı kaydettim\n",
    "uniqparcalar=df[\"Stok kodu\"].unique()"
   ]
  },
  {
   "cell_type": "code",
   "execution_count": 36,
   "id": "8d11d30e",
   "metadata": {},
   "outputs": [
    {
     "name": "stdout",
     "output_type": "stream",
     "text": [
      "001-0827-00000000030  toplam çalışma süresi:  4816\n",
      "001-0616-02000000030  toplam çalışma süresi:  946\n",
      "501-0639-02000000010  toplam çalışma süresi:  1173\n",
      "501-0639-00000000010  toplam çalışma süresi:  4199\n",
      "001-0789-01000000010  toplam çalışma süresi:  1037\n",
      "007-0631-00000000040  toplam çalışma süresi:  115\n",
      "007-0587-00000000040  toplam çalışma süresi:  86\n",
      "007-0514-00000000040  toplam çalışma süresi:  435\n",
      "007-0477-00000000040  toplam çalışma süresi:  7380\n",
      "007-0428-00000000041  toplam çalışma süresi:  27\n",
      "007-0394-01000000040  toplam çalışma süresi:  355\n",
      "007-0367-00000000040  toplam çalışma süresi:  79\n",
      "007-0363-00000000042  toplam çalışma süresi:  103\n",
      "007-0355-02000000040  toplam çalışma süresi:  38\n",
      "007-0344-03000000041  toplam çalışma süresi:  155\n",
      "007-0344-02000000041  toplam çalışma süresi:  54\n",
      "007-0344-00000000041  toplam çalışma süresi:  1031\n",
      "007-0609-00000000032  toplam çalışma süresi:  3253\n",
      "007-0521-00000000031  toplam çalışma süresi:  67\n",
      "007-0473-00000000030  toplam çalışma süresi:  4052\n",
      "007-0464-01000000030  toplam çalışma süresi:  1248\n",
      "007-0352-04000000030  toplam çalışma süresi:  1396\n",
      "007-0344-03000000031  toplam çalışma süresi:  322\n",
      "007-0609-00000000040  toplam çalışma süresi:  113\n",
      "007-0476-00000000040  toplam çalışma süresi:  77\n",
      "007-0473-00000000040  toplam çalışma süresi:  6490\n",
      "007-0464-01000000040  toplam çalışma süresi:  182\n",
      "007-0359-02000000040  toplam çalışma süresi:  1098\n",
      "007-0352-08000000040  toplam çalışma süresi:  53\n",
      "007-0352-04000000040  toplam çalışma süresi:  1327\n",
      "007-0477-00000000030  toplam çalışma süresi:  30\n",
      "007-0428-00000000031  toplam çalışma süresi:  1248\n",
      "007-0359-02000000030  toplam çalışma süresi:  531\n",
      "007-0355-02000000030  toplam çalışma süresi:  296\n",
      "007-0344-00000000031  toplam çalışma süresi:  125\n",
      "R9099210390000000025  toplam çalışma süresi:  12\n",
      "R9022197280000000030  toplam çalışma süresi:  14\n",
      "R9021509100000000030  toplam çalışma süresi:  130\n",
      "R9021374550000000030  toplam çalışma süresi:  2\n",
      "R9020481270000000030  toplam çalışma süresi:  1\n",
      "R9020362500000000025  toplam çalışma süresi:  19\n",
      "R9020291800000000030  toplam çalışma süresi:  52\n",
      "7,28E+19  toplam çalışma süresi:  49\n",
      "001-0807-04000000055  toplam çalışma süresi:  398\n",
      "007-0521-00000000101  toplam çalışma süresi:  58\n",
      "007-0514-00000000100  toplam çalışma süresi:  959\n",
      "007-0477-00000000100  toplam çalışma süresi:  81\n",
      "007-0473-00000000100  toplam çalışma süresi:  341\n",
      "007-0464-01000000100  toplam çalışma süresi:  49\n",
      "007-0363-01000000102  toplam çalışma süresi:  206\n",
      "007-0344-07000000101  toplam çalışma süresi:  34\n",
      "007-0344-03000000101  toplam çalışma süresi:  870\n",
      "007-0344-02000000101  toplam çalışma süresi:  207\n",
      "007-0344-00000000101  toplam çalışma süresi:  82\n",
      "F00BC202280000000070  toplam çalışma süresi:  142\n",
      "F00BC200600000000070  toplam çalışma süresi:  320\n",
      "001-0850-01000000010  toplam çalışma süresi:  199\n",
      "001-0791-00000000010  toplam çalışma süresi:  279\n",
      "001-0726-00000000010  toplam çalışma süresi:  493\n",
      "F00BC201280000000020  toplam çalışma süresi:  24\n",
      "4304075H10000000020  toplam çalışma süresi:  196\n",
      "4,02E+19  toplam çalışma süresi:  115\n",
      "3796338H3J0000000020  toplam çalışma süresi:  169\n",
      "1,34E+19  toplam çalışma süresi:  52\n",
      "R9170080200000000030  toplam çalışma süresi:  489\n",
      "1525503740000000D211  toplam çalışma süresi:  7136\n",
      "1,53E+19  toplam çalışma süresi:  5791\n",
      "9,13E+19  toplam çalışma süresi:  14255\n"
     ]
    }
   ],
   "source": [
    "#her ÜRETİLEN parçanın ne kadar durduğu bilgisi \n",
    "uretilenparcadurus= []\n",
    "for y in uniqparcalar:\n",
    "    sum = 0\n",
    "    for x in range(len(df)):\n",
    "        if df.iloc[x][\"Stok kodu\"] == y:\n",
    "            sum += df.iloc[x][\"Çalışma Süresi(Dk) Toplam\"]\n",
    "    uretilenparcadurus.append([sum,y])        \n",
    "    print(y , \" toplam çalışma süresi: \", sum)\n"
   ]
  },
  {
   "cell_type": "code",
   "execution_count": 63,
   "id": "cbd15221",
   "metadata": {},
   "outputs": [
    {
     "data": {
      "text/plain": [
       "[[14255, '9,13E+19'],\n",
       " [7380, '007-0477-00000000040'],\n",
       " [7136, '1525503740000000D211'],\n",
       " [6490, '007-0473-00000000040'],\n",
       " [5791, '1,53E+19'],\n",
       " [4816, '001-0827-00000000030'],\n",
       " [4199, '501-0639-00000000010'],\n",
       " [4052, '007-0473-00000000030'],\n",
       " [3253, '007-0609-00000000032'],\n",
       " [1396, '007-0352-04000000030'],\n",
       " [1327, '007-0352-04000000040'],\n",
       " [1248, '007-0464-01000000030'],\n",
       " [1248, '007-0428-00000000031'],\n",
       " [1173, '501-0639-02000000010'],\n",
       " [1098, '007-0359-02000000040'],\n",
       " [1037, '001-0789-01000000010'],\n",
       " [1031, '007-0344-00000000041'],\n",
       " [959, '007-0514-00000000100'],\n",
       " [946, '001-0616-02000000030'],\n",
       " [870, '007-0344-03000000101'],\n",
       " [531, '007-0359-02000000030'],\n",
       " [493, '001-0726-00000000010'],\n",
       " [489, 'R9170080200000000030'],\n",
       " [435, '007-0514-00000000040'],\n",
       " [398, '001-0807-04000000055'],\n",
       " [355, '007-0394-01000000040'],\n",
       " [341, '007-0473-00000000100'],\n",
       " [322, '007-0344-03000000031'],\n",
       " [320, 'F00BC200600000000070'],\n",
       " [296, '007-0355-02000000030'],\n",
       " [279, '001-0791-00000000010'],\n",
       " [207, '007-0344-02000000101'],\n",
       " [206, '007-0363-01000000102'],\n",
       " [199, '001-0850-01000000010'],\n",
       " [196, '4304075H10000000020'],\n",
       " [182, '007-0464-01000000040'],\n",
       " [169, '3796338H3J0000000020'],\n",
       " [155, '007-0344-03000000041'],\n",
       " [142, 'F00BC202280000000070'],\n",
       " [130, 'R9021509100000000030'],\n",
       " [125, '007-0344-00000000031'],\n",
       " [115, '4,02E+19'],\n",
       " [115, '007-0631-00000000040'],\n",
       " [113, '007-0609-00000000040'],\n",
       " [103, '007-0363-00000000042'],\n",
       " [86, '007-0587-00000000040'],\n",
       " [82, '007-0344-00000000101'],\n",
       " [81, '007-0477-00000000100'],\n",
       " [79, '007-0367-00000000040'],\n",
       " [77, '007-0476-00000000040'],\n",
       " [67, '007-0521-00000000031'],\n",
       " [58, '007-0521-00000000101'],\n",
       " [54, '007-0344-02000000041'],\n",
       " [53, '007-0352-08000000040'],\n",
       " [52, 'R9020291800000000030'],\n",
       " [52, '1,34E+19'],\n",
       " [49, '7,28E+19'],\n",
       " [49, '007-0464-01000000100'],\n",
       " [38, '007-0355-02000000040'],\n",
       " [34, '007-0344-07000000101'],\n",
       " [30, '007-0477-00000000030'],\n",
       " [27, '007-0428-00000000041'],\n",
       " [24, 'F00BC201280000000020'],\n",
       " [19, 'R9020362500000000025'],\n",
       " [14, 'R9022197280000000030'],\n",
       " [12, 'R9099210390000000025'],\n",
       " [2, 'R9021374550000000030'],\n",
       " [1, 'R9020481270000000030']]"
      ]
     },
     "execution_count": 63,
     "metadata": {},
     "output_type": "execute_result"
    }
   ],
   "source": [
    "uretilenparcadurus.sort(reverse = True)\n",
    "uretilenparcadurus"
   ]
  },
  {
   "cell_type": "code",
   "execution_count": 38,
   "id": "20809e17",
   "metadata": {},
   "outputs": [],
   "source": [
    "#her personelin ayrı kaydı\n",
    "uniqpersoneller=df[\"Personel\"].unique()"
   ]
  },
  {
   "cell_type": "code",
   "execution_count": 64,
   "id": "ce090b9e",
   "metadata": {},
   "outputs": [
    {
     "name": "stdout",
     "output_type": "stream",
     "text": [
      "ALI RIZA EREN  toplam çalışma süresi:  221\n",
      "GÖKHAN GÖK  toplam çalışma süresi:  4881\n",
      "ARİF TARIM  toplam çalışma süresi:  16964\n",
      "MURAT TILKI  toplam çalışma süresi:  255\n",
      "ERKAN SAHIN  toplam çalışma süresi:  204\n",
      "MEHMET AKA  toplam çalışma süresi:  7501\n",
      "İLYAS ÖZ  toplam çalışma süresi:  4204\n",
      "UMUT DEMİR  toplam çalışma süresi:  5456\n",
      "İBRAHİM HALİL SALMAN  toplam çalışma süresi:  2044\n",
      "LEVENT DEMİR  toplam çalışma süresi:  299\n",
      "DURSUN ARIK  toplam çalışma süresi:  994\n",
      "KEMAL DEMİR  toplam çalışma süresi:  8004\n",
      "ÖZDEN ÇELIK  toplam çalışma süresi:  316\n",
      "KEMAL ILDEMIR  toplam çalışma süresi:  66\n",
      "HÜSEYİN ÇETİN  toplam çalışma süresi:  131\n",
      "CUMHUR ALTIN  toplam çalışma süresi:  2176\n",
      "ELMAS URAK  toplam çalışma süresi:  11664\n",
      "GÜRKAN ÇETINER  toplam çalışma süresi:  580\n",
      "ZAFER ÇINAR  toplam çalışma süresi:  714\n",
      "MAHMUT KIYMIK  toplam çalışma süresi:  305\n",
      "MEHMET YASAR TASÇI  toplam çalışma süresi:  457\n",
      "MUSTAFA ŞEKER  toplam çalışma süresi:  49\n",
      "MÜSLÜM GENÇOGLU  toplam çalışma süresi:  1\n",
      "MUSTAFA GÜNGÖR  toplam çalışma süresi:  224\n",
      "FERHAT BASTUG  toplam çalışma süresi:  102\n",
      "MEHMET ÇETIN  toplam çalışma süresi:  320\n",
      "ENVER UÇMAZOGLU  toplam çalışma süresi:  37\n",
      "ESREF BÜYÜKULU  toplam çalışma süresi:  180\n",
      "NEVZAT CANPOLAT  toplam çalışma süresi:  1771\n",
      "MEHMET UZUNOGLU  toplam çalışma süresi:  291\n",
      "KADİR KARAÇAY  toplam çalışma süresi:  67\n",
      "HÜSEYİN YAMAÇTEPE  toplam çalışma süresi:  93\n",
      "HÜSEYİN GAZİ  toplam çalışma süresi:  23\n",
      "EMIN BORAN  toplam çalışma süresi:  96\n",
      "TANER BURGUCU  toplam çalışma süresi:  23\n",
      "BAŞAR AKŞİT  toplam çalışma süresi:  1\n",
      "ADEM YEŞİLYURT  toplam çalışma süresi:  35\n",
      "HAYDAR KILIÇ  toplam çalışma süresi:  38\n",
      "MURAT BOZER  toplam çalışma süresi:  4\n",
      "SERCAN EMRE  toplam çalışma süresi:  21\n",
      "MÜKREMIN YILDIZ  toplam çalışma süresi:  26\n",
      "TAHİR ŞAT  toplam çalışma süresi:  10\n",
      "FERHAT CEREN  toplam çalışma süresi:  20\n",
      "GÜVEN TAS  toplam çalışma süresi:  61\n",
      "TEOMAN ÇORBACI  toplam çalışma süresi:  211\n",
      "FATİH ÖZKAN  toplam çalışma süresi:  3\n",
      "ABDÜLHAKİM KAYA  toplam çalışma süresi:  21\n",
      "İLKER SACÇI  toplam çalışma süresi:  152\n",
      "MUSTAFA KARAKUSLU  toplam çalışma süresi:  59\n",
      "GÜNER TOPALOGLU  toplam çalışma süresi:  39\n",
      "MURAT ÖZGÜLSÜM  toplam çalışma süresi:  28\n",
      "SELÇUK GÜZEL  toplam çalışma süresi:  33\n",
      "ADEM ÜZÜM  toplam çalışma süresi:  11\n",
      "HAŞİM GÜNTAŞ  toplam çalışma süresi:  139\n",
      "YASIN BAYINDIR  toplam çalışma süresi:  67\n",
      "İBRAHİM AYCAN  toplam çalışma süresi:  11\n",
      "SEFA CULFA  toplam çalışma süresi:  184\n",
      "FATIH AKKIRAN  toplam çalışma süresi:  173\n",
      "OZGUR SAMURCU  toplam çalışma süresi:  361\n",
      "HÜSEYIN KORKMAZ  toplam çalışma süresi:  254\n",
      "TOSKA VATANSEVER  toplam çalışma süresi:  70\n",
      "YÜKSEL TANER  toplam çalışma süresi:  167\n",
      "CAN ALBAYRAK  toplam çalışma süresi:  396\n",
      "SENAİ HAYIRSEVER  toplam çalışma süresi:  21\n",
      "MEHMET ERTUGRUL  toplam çalışma süresi:  199\n",
      "GÖKAN BİRİNCİ  toplam çalışma süresi:  1143\n",
      "UFUK EŞME  toplam çalışma süresi:  128\n",
      "BURAK ÇİFTÇİ  toplam çalışma süresi:  99\n",
      "AYHAN AŞAĞI  toplam çalışma süresi:  32\n",
      "İBRAHİM MERCAN  toplam çalışma süresi:  666\n",
      "FATİH AKYOL  toplam çalışma süresi:  1326\n",
      "MURAT TOKGOZ  toplam çalışma süresi:  4\n",
      "YAKUP KORKMAZ  toplam çalışma süresi:  6\n",
      "KÜRŞAT SERT  toplam çalışma süresi:  20\n",
      "OSMAN BULUT  toplam çalışma süresi:  21\n",
      "HİDAYET KAHRAMAN  toplam çalışma süresi:  126\n",
      "EMRE TUZALAN  toplam çalışma süresi:  40\n",
      "ADEM BAĞIRAN  toplam çalışma süresi:  22\n"
     ]
    },
    {
     "data": {
      "text/plain": [
       "[[16964, 'ARİF TARIM'],\n",
       " [11664, 'ELMAS URAK'],\n",
       " [8004, 'KEMAL DEMİR'],\n",
       " [7501, 'MEHMET AKA'],\n",
       " [5456, 'UMUT DEMİR'],\n",
       " [4881, 'GÖKHAN GÖK'],\n",
       " [4204, 'İLYAS ÖZ'],\n",
       " [2176, 'CUMHUR ALTIN'],\n",
       " [2044, 'İBRAHİM HALİL SALMAN'],\n",
       " [1771, 'NEVZAT CANPOLAT'],\n",
       " [1326, 'FATİH AKYOL'],\n",
       " [1143, 'GÖKAN BİRİNCİ'],\n",
       " [994, 'DURSUN ARIK'],\n",
       " [714, 'ZAFER ÇINAR'],\n",
       " [666, 'İBRAHİM MERCAN'],\n",
       " [580, 'GÜRKAN ÇETINER'],\n",
       " [457, 'MEHMET YASAR TASÇI'],\n",
       " [396, 'CAN ALBAYRAK'],\n",
       " [361, 'OZGUR SAMURCU'],\n",
       " [320, 'MEHMET ÇETIN'],\n",
       " [316, 'ÖZDEN ÇELIK'],\n",
       " [305, 'MAHMUT KIYMIK'],\n",
       " [299, 'LEVENT DEMİR'],\n",
       " [291, 'MEHMET UZUNOGLU'],\n",
       " [255, 'MURAT TILKI'],\n",
       " [254, 'HÜSEYIN KORKMAZ'],\n",
       " [224, 'MUSTAFA GÜNGÖR'],\n",
       " [221, 'ALI RIZA EREN'],\n",
       " [211, 'TEOMAN ÇORBACI'],\n",
       " [204, 'ERKAN SAHIN'],\n",
       " [199, 'MEHMET ERTUGRUL'],\n",
       " [184, 'SEFA CULFA'],\n",
       " [180, 'ESREF BÜYÜKULU'],\n",
       " [173, 'FATIH AKKIRAN'],\n",
       " [167, 'YÜKSEL TANER'],\n",
       " [152, 'İLKER SACÇI'],\n",
       " [139, 'HAŞİM GÜNTAŞ'],\n",
       " [131, 'HÜSEYİN ÇETİN'],\n",
       " [128, 'UFUK EŞME'],\n",
       " [126, 'HİDAYET KAHRAMAN'],\n",
       " [102, 'FERHAT BASTUG'],\n",
       " [99, 'BURAK ÇİFTÇİ'],\n",
       " [96, 'EMIN BORAN'],\n",
       " [93, 'HÜSEYİN YAMAÇTEPE'],\n",
       " [70, 'TOSKA VATANSEVER'],\n",
       " [67, 'YASIN BAYINDIR'],\n",
       " [67, 'KADİR KARAÇAY'],\n",
       " [66, 'KEMAL ILDEMIR'],\n",
       " [61, 'GÜVEN TAS'],\n",
       " [59, 'MUSTAFA KARAKUSLU'],\n",
       " [49, 'MUSTAFA ŞEKER'],\n",
       " [40, 'EMRE TUZALAN'],\n",
       " [39, 'GÜNER TOPALOGLU'],\n",
       " [38, 'HAYDAR KILIÇ'],\n",
       " [37, 'ENVER UÇMAZOGLU'],\n",
       " [35, 'ADEM YEŞİLYURT'],\n",
       " [33, 'SELÇUK GÜZEL'],\n",
       " [32, 'AYHAN AŞAĞI'],\n",
       " [28, 'MURAT ÖZGÜLSÜM'],\n",
       " [26, 'MÜKREMIN YILDIZ'],\n",
       " [23, 'TANER BURGUCU'],\n",
       " [23, 'HÜSEYİN GAZİ'],\n",
       " [22, 'ADEM BAĞIRAN'],\n",
       " [21, 'SERCAN EMRE'],\n",
       " [21, 'SENAİ HAYIRSEVER'],\n",
       " [21, 'OSMAN BULUT'],\n",
       " [21, 'ABDÜLHAKİM KAYA'],\n",
       " [20, 'KÜRŞAT SERT'],\n",
       " [20, 'FERHAT CEREN'],\n",
       " [11, 'İBRAHİM AYCAN'],\n",
       " [11, 'ADEM ÜZÜM'],\n",
       " [10, 'TAHİR ŞAT'],\n",
       " [6, 'YAKUP KORKMAZ'],\n",
       " [4, 'MURAT TOKGOZ'],\n",
       " [4, 'MURAT BOZER'],\n",
       " [3, 'FATİH ÖZKAN'],\n",
       " [1, 'MÜSLÜM GENÇOGLU'],\n",
       " [1, 'BAŞAR AKŞİT']]"
      ]
     },
     "execution_count": 64,
     "metadata": {},
     "output_type": "execute_result"
    }
   ],
   "source": [
    "#her personelin ne kadar durduğu bilgisi \n",
    "personelsüreler=[]\n",
    "for y in uniqpersoneller:\n",
    "    sum = 0\n",
    "    for x in range(len(df)):\n",
    "        \n",
    "        if df.iloc[x][\"Personel\"] == y:\n",
    "            sum += df.iloc[x][\"Çalışma Süresi(Dk) Toplam\"]\n",
    "            \n",
    "    personelsüreler.append([sum,y])\n",
    "    print(y , \" toplam çalışma süresi: \", sum)\n",
    "    \n",
    "personelsüreler.sort(reverse = True)    \n",
    "personelsüreler"
   ]
  },
  {
   "cell_type": "code",
   "execution_count": 65,
   "id": "86952357",
   "metadata": {},
   "outputs": [
    {
     "name": "stdout",
     "output_type": "stream",
     "text": [
      "ALI RIZA EREN  toplam çalışma süresi:  154\n",
      "GÖKHAN GÖK  toplam çalışma süresi:  810\n",
      "ARİF TARIM  toplam çalışma süresi:  1046\n",
      "MURAT TILKI  toplam çalışma süresi:  243\n",
      "ERKAN SAHIN  toplam çalışma süresi:  204\n",
      "MEHMET AKA  toplam çalışma süresi:  910\n",
      "İLYAS ÖZ  toplam çalışma süresi:  1043\n",
      "UMUT DEMİR  toplam çalışma süresi:  233\n",
      "İBRAHİM HALİL SALMAN  toplam çalışma süresi:  81\n",
      "LEVENT DEMİR  toplam çalışma süresi:  106\n",
      "DURSUN ARIK  toplam çalışma süresi:  56\n",
      "KEMAL DEMİR  toplam çalışma süresi:  876\n"
     ]
    }
   ],
   "source": [
    " #En çok problem çıkaran makine ile personeller\n",
    "personelmakineanaliz=[]\n",
    "for y in uniqpersoneller:\n",
    "    sum = 0\n",
    "    for x in range(len(df)):\n",
    "\n",
    "            if (df.iloc[x][\"Personel\"] == y): \n",
    "                if(df.iloc[x][\"Makine\"] == makinesüreler[0][1]):\n",
    "                    sum += df.iloc[x][\"Çalışma Süresi(Dk) Toplam\"]\n",
    "    if sum!=0 :\n",
    "        personelmakineanaliz.append([sum,y])\n",
    "        print(y , \" toplam çalışma süresi: \", sum)\n",
    "\n",
    "    \n",
    "    "
   ]
  },
  {
   "cell_type": "code",
   "execution_count": 66,
   "id": "e40ac789",
   "metadata": {},
   "outputs": [
    {
     "data": {
      "text/plain": [
       "[[1046, 'ARİF TARIM'],\n",
       " [1043, 'İLYAS ÖZ'],\n",
       " [910, 'MEHMET AKA'],\n",
       " [876, 'KEMAL DEMİR'],\n",
       " [810, 'GÖKHAN GÖK'],\n",
       " [243, 'MURAT TILKI'],\n",
       " [233, 'UMUT DEMİR'],\n",
       " [204, 'ERKAN SAHIN'],\n",
       " [154, 'ALI RIZA EREN'],\n",
       " [106, 'LEVENT DEMİR'],\n",
       " [81, 'İBRAHİM HALİL SALMAN'],\n",
       " [56, 'DURSUN ARIK']]"
      ]
     },
     "execution_count": 66,
     "metadata": {},
     "output_type": "execute_result"
    }
   ],
   "source": [
    "personelmakineanaliz.sort(reverse = True)\n",
    "personelmakineanaliz\n"
   ]
  },
  {
   "cell_type": "markdown",
   "id": "8418caf5",
   "metadata": {},
   "source": [
    "### En çok problem çıkaran makine ile hangi personelin çalıştığı verilerinin analizi"
   ]
  },
  {
   "cell_type": "code",
   "execution_count": 42,
   "id": "d17dedfc",
   "metadata": {},
   "outputs": [
    {
     "data": {
      "text/plain": [
       "'ARİF TARIM'"
      ]
     },
     "execution_count": 42,
     "metadata": {},
     "output_type": "execute_result"
    }
   ],
   "source": [
    "#En çok problem çıkaran makine ile hangi personelin çalıştığı verilerinin analizi\n",
    "personelmakineanaliz[0][1]\n"
   ]
  },
  {
   "cell_type": "markdown",
   "id": "5229044c",
   "metadata": {},
   "source": [
    "# hangi makinede hangi arıza\n"
   ]
  },
  {
   "cell_type": "code",
   "execution_count": 67,
   "id": "a017f581",
   "metadata": {},
   "outputs": [
    {
     "data": {
      "text/plain": [
       "array(['(4.7) BAKIMCI BEKLEME', '(4.2) MEKANIK ARIZA',\n",
       "       '(4.1) ELEKTRIK ARIZA', '(4.3) HIDROLIK ARIZA',\n",
       "       '(4.8) GENEL KOMPRESÖR ARIZASI', '(4.10) BAKIM MALZEME BEKLEME',\n",
       "       '(4.4) PNOMATIK ARIZA', '(4.9) TEZGAH REVİZYON', '(4.5) SOGUTMA',\n",
       "       '(4.6) OPERATÖR'], dtype=object)"
      ]
     },
     "execution_count": 67,
     "metadata": {},
     "output_type": "execute_result"
    }
   ],
   "source": [
    "#arızaların ayrımı\n",
    "uniqarizalar=df[\"Arıza Grup 2\"].unique()\n",
    "uniqarizalar"
   ]
  },
  {
   "cell_type": "markdown",
   "id": "38c83121",
   "metadata": {},
   "source": [
    "### en çok duruşa sebep olan arıza"
   ]
  },
  {
   "cell_type": "code",
   "execution_count": 68,
   "id": "e7fb42a2",
   "metadata": {
    "scrolled": false
   },
   "outputs": [
    {
     "name": "stdout",
     "output_type": "stream",
     "text": [
      "(C 02) MAZAK QT-28N (TORNA) (4.7) BAKIMCI BEKLEME 645\n",
      "(C 02) MAZAK QT-28N (TORNA) (4.2) MEKANIK ARIZA 3933\n",
      "(C 02) MAZAK QT-28N (TORNA) (4.1) ELEKTRIK ARIZA 180\n",
      "(C 02) MAZAK QT-28N (TORNA) (4.3) HIDROLIK ARIZA 206\n",
      "(C 02) MAZAK QT-28N (TORNA) (4.8) GENEL KOMPRESÖR ARIZASI 371\n",
      "(C 02) MAZAK QT-28N (TORNA) (4.10) BAKIM MALZEME BEKLEME 427\n",
      "(C 02) MAZAK QT-28N (TORNA) (4.4) PNOMATIK ARIZA 0\n",
      "(C 02) MAZAK QT-28N (TORNA) (4.9) TEZGAH REVİZYON 0\n",
      "(C 02) MAZAK QT-28N (TORNA) (4.5) SOGUTMA 0\n",
      "(C 02) MAZAK QT-28N (TORNA) (4.6) OPERATÖR 0\n",
      "\n",
      "\n",
      "(C 10) MAZAK QT-28N (TORNA) (4.7) BAKIMCI BEKLEME 592\n",
      "(C 10) MAZAK QT-28N (TORNA) (4.2) MEKANIK ARIZA 4789\n",
      "(C 10) MAZAK QT-28N (TORNA) (4.1) ELEKTRIK ARIZA 455\n",
      "(C 10) MAZAK QT-28N (TORNA) (4.3) HIDROLIK ARIZA 154\n",
      "(C 10) MAZAK QT-28N (TORNA) (4.8) GENEL KOMPRESÖR ARIZASI 419\n",
      "(C 10) MAZAK QT-28N (TORNA) (4.10) BAKIM MALZEME BEKLEME 0\n",
      "(C 10) MAZAK QT-28N (TORNA) (4.4) PNOMATIK ARIZA 0\n",
      "(C 10) MAZAK QT-28N (TORNA) (4.9) TEZGAH REVİZYON 0\n",
      "(C 10) MAZAK QT-28N (TORNA) (4.5) SOGUTMA 0\n",
      "(C 10) MAZAK QT-28N (TORNA) (4.6) OPERATÖR 0\n",
      "\n",
      "\n",
      "(C 100) MAZAK QTN-II-200 (TORNA) (4.7) BAKIMCI BEKLEME 491\n",
      "(C 100) MAZAK QTN-II-200 (TORNA) (4.2) MEKANIK ARIZA 43\n",
      "(C 100) MAZAK QTN-II-200 (TORNA) (4.1) ELEKTRIK ARIZA 926\n",
      "(C 100) MAZAK QTN-II-200 (TORNA) (4.3) HIDROLIK ARIZA 0\n",
      "(C 100) MAZAK QTN-II-200 (TORNA) (4.8) GENEL KOMPRESÖR ARIZASI 293\n",
      "(C 100) MAZAK QTN-II-200 (TORNA) (4.10) BAKIM MALZEME BEKLEME 0\n",
      "(C 100) MAZAK QTN-II-200 (TORNA) (4.4) PNOMATIK ARIZA 0\n",
      "(C 100) MAZAK QTN-II-200 (TORNA) (4.9) TEZGAH REVİZYON 0\n",
      "(C 100) MAZAK QTN-II-200 (TORNA) (4.5) SOGUTMA 0\n",
      "(C 100) MAZAK QTN-II-200 (TORNA) (4.6) OPERATÖR 0\n",
      "\n",
      "\n",
      "(C 101) MAZAK QTN-II-150 (TORNA) (4.7) BAKIMCI BEKLEME 378\n",
      "(C 101) MAZAK QTN-II-150 (TORNA) (4.2) MEKANIK ARIZA 162\n",
      "(C 101) MAZAK QTN-II-150 (TORNA) (4.1) ELEKTRIK ARIZA 3379\n",
      "(C 101) MAZAK QTN-II-150 (TORNA) (4.3) HIDROLIK ARIZA 1\n",
      "(C 101) MAZAK QTN-II-150 (TORNA) (4.8) GENEL KOMPRESÖR ARIZASI 293\n",
      "(C 101) MAZAK QTN-II-150 (TORNA) (4.10) BAKIM MALZEME BEKLEME 2571\n",
      "(C 101) MAZAK QTN-II-150 (TORNA) (4.4) PNOMATIK ARIZA 3\n",
      "(C 101) MAZAK QTN-II-150 (TORNA) (4.9) TEZGAH REVİZYON 0\n",
      "(C 101) MAZAK QTN-II-150 (TORNA) (4.5) SOGUTMA 0\n",
      "(C 101) MAZAK QTN-II-150 (TORNA) (4.6) OPERATÖR 0\n",
      "\n",
      "\n",
      "(C 102) MAZAK QTN-II-150 (TORNA) (4.7) BAKIMCI BEKLEME 1234\n",
      "(C 102) MAZAK QTN-II-150 (TORNA) (4.2) MEKANIK ARIZA 9815\n",
      "(C 102) MAZAK QTN-II-150 (TORNA) (4.1) ELEKTRIK ARIZA 4111\n",
      "(C 102) MAZAK QTN-II-150 (TORNA) (4.3) HIDROLIK ARIZA 0\n",
      "(C 102) MAZAK QTN-II-150 (TORNA) (4.8) GENEL KOMPRESÖR ARIZASI 294\n",
      "(C 102) MAZAK QTN-II-150 (TORNA) (4.10) BAKIM MALZEME BEKLEME 1991\n",
      "(C 102) MAZAK QTN-II-150 (TORNA) (4.4) PNOMATIK ARIZA 0\n",
      "(C 102) MAZAK QTN-II-150 (TORNA) (4.9) TEZGAH REVİZYON 0\n",
      "(C 102) MAZAK QTN-II-150 (TORNA) (4.5) SOGUTMA 0\n",
      "(C 102) MAZAK QTN-II-150 (TORNA) (4.6) OPERATÖR 0\n",
      "\n",
      "\n",
      "(C 103) MAZAK QTN-II-150 (TORNA) (4.7) BAKIMCI BEKLEME 503\n",
      "(C 103) MAZAK QTN-II-150 (TORNA) (4.2) MEKANIK ARIZA 3868\n",
      "(C 103) MAZAK QTN-II-150 (TORNA) (4.1) ELEKTRIK ARIZA 1060\n",
      "(C 103) MAZAK QTN-II-150 (TORNA) (4.3) HIDROLIK ARIZA 0\n",
      "(C 103) MAZAK QTN-II-150 (TORNA) (4.8) GENEL KOMPRESÖR ARIZASI 294\n",
      "(C 103) MAZAK QTN-II-150 (TORNA) (4.10) BAKIM MALZEME BEKLEME 0\n",
      "(C 103) MAZAK QTN-II-150 (TORNA) (4.4) PNOMATIK ARIZA 0\n",
      "(C 103) MAZAK QTN-II-150 (TORNA) (4.9) TEZGAH REVİZYON 1\n",
      "(C 103) MAZAK QTN-II-150 (TORNA) (4.5) SOGUTMA 55\n",
      "(C 103) MAZAK QTN-II-150 (TORNA) (4.6) OPERATÖR 0\n",
      "\n",
      "\n",
      "(C 105) MAZAK HCN-5000 (YİM) (4.7) BAKIMCI BEKLEME 393\n",
      "(C 105) MAZAK HCN-5000 (YİM) (4.2) MEKANIK ARIZA 89\n",
      "(C 105) MAZAK HCN-5000 (YİM) (4.1) ELEKTRIK ARIZA 189\n",
      "(C 105) MAZAK HCN-5000 (YİM) (4.3) HIDROLIK ARIZA 0\n",
      "(C 105) MAZAK HCN-5000 (YİM) (4.8) GENEL KOMPRESÖR ARIZASI 0\n",
      "(C 105) MAZAK HCN-5000 (YİM) (4.10) BAKIM MALZEME BEKLEME 0\n",
      "(C 105) MAZAK HCN-5000 (YİM) (4.4) PNOMATIK ARIZA 0\n",
      "(C 105) MAZAK HCN-5000 (YİM) (4.9) TEZGAH REVİZYON 0\n",
      "(C 105) MAZAK HCN-5000 (YİM) (4.5) SOGUTMA 6\n",
      "(C 105) MAZAK HCN-5000 (YİM) (4.6) OPERATÖR 0\n",
      "\n",
      "\n",
      "(C 107) LİMİT KGS16324HO (NC TAŞLAMA) (4.7) BAKIMCI BEKLEME 333\n",
      "(C 107) LİMİT KGS16324HO (NC TAŞLAMA) (4.2) MEKANIK ARIZA 1461\n",
      "(C 107) LİMİT KGS16324HO (NC TAŞLAMA) (4.1) ELEKTRIK ARIZA 774\n",
      "(C 107) LİMİT KGS16324HO (NC TAŞLAMA) (4.3) HIDROLIK ARIZA 0\n",
      "(C 107) LİMİT KGS16324HO (NC TAŞLAMA) (4.8) GENEL KOMPRESÖR ARIZASI 311\n",
      "(C 107) LİMİT KGS16324HO (NC TAŞLAMA) (4.10) BAKIM MALZEME BEKLEME 0\n",
      "(C 107) LİMİT KGS16324HO (NC TAŞLAMA) (4.4) PNOMATIK ARIZA 0\n",
      "(C 107) LİMİT KGS16324HO (NC TAŞLAMA) (4.9) TEZGAH REVİZYON 0\n",
      "(C 107) LİMİT KGS16324HO (NC TAŞLAMA) (4.5) SOGUTMA 8\n",
      "(C 107) LİMİT KGS16324HO (NC TAŞLAMA) (4.6) OPERATÖR 0\n",
      "\n",
      "\n",
      "(C 108) MAZAK QTN-250 II (TORNA) (4.7) BAKIMCI BEKLEME 290\n",
      "(C 108) MAZAK QTN-250 II (TORNA) (4.2) MEKANIK ARIZA 67\n",
      "(C 108) MAZAK QTN-250 II (TORNA) (4.1) ELEKTRIK ARIZA 50\n",
      "(C 108) MAZAK QTN-250 II (TORNA) (4.3) HIDROLIK ARIZA 80\n",
      "(C 108) MAZAK QTN-250 II (TORNA) (4.8) GENEL KOMPRESÖR ARIZASI 346\n",
      "(C 108) MAZAK QTN-250 II (TORNA) (4.10) BAKIM MALZEME BEKLEME 0\n",
      "(C 108) MAZAK QTN-250 II (TORNA) (4.4) PNOMATIK ARIZA 0\n",
      "(C 108) MAZAK QTN-250 II (TORNA) (4.9) TEZGAH REVİZYON 0\n",
      "(C 108) MAZAK QTN-250 II (TORNA) (4.5) SOGUTMA 0\n",
      "(C 108) MAZAK QTN-250 II (TORNA) (4.6) OPERATÖR 0\n",
      "\n",
      "\n",
      "(C 109) MAZAK QTN-250 II (TORNA) (4.7) BAKIMCI BEKLEME 661\n",
      "(C 109) MAZAK QTN-250 II (TORNA) (4.2) MEKANIK ARIZA 157\n",
      "(C 109) MAZAK QTN-250 II (TORNA) (4.1) ELEKTRIK ARIZA 220\n",
      "(C 109) MAZAK QTN-250 II (TORNA) (4.3) HIDROLIK ARIZA 20\n",
      "(C 109) MAZAK QTN-250 II (TORNA) (4.8) GENEL KOMPRESÖR ARIZASI 98\n",
      "(C 109) MAZAK QTN-250 II (TORNA) (4.10) BAKIM MALZEME BEKLEME 0\n",
      "(C 109) MAZAK QTN-250 II (TORNA) (4.4) PNOMATIK ARIZA 0\n",
      "(C 109) MAZAK QTN-250 II (TORNA) (4.9) TEZGAH REVİZYON 0\n",
      "(C 109) MAZAK QTN-250 II (TORNA) (4.5) SOGUTMA 0\n",
      "(C 109) MAZAK QTN-250 II (TORNA) (4.6) OPERATÖR 0\n",
      "\n",
      "\n",
      "(C 110) MAZAK VTC-200-C (DİM) (4.7) BAKIMCI BEKLEME 1006\n",
      "(C 110) MAZAK VTC-200-C (DİM) (4.2) MEKANIK ARIZA 2353\n",
      "(C 110) MAZAK VTC-200-C (DİM) (4.1) ELEKTRIK ARIZA 1119\n",
      "(C 110) MAZAK VTC-200-C (DİM) (4.3) HIDROLIK ARIZA 0\n",
      "(C 110) MAZAK VTC-200-C (DİM) (4.8) GENEL KOMPRESÖR ARIZASI 382\n",
      "(C 110) MAZAK VTC-200-C (DİM) (4.10) BAKIM MALZEME BEKLEME 7910\n",
      "(C 110) MAZAK VTC-200-C (DİM) (4.4) PNOMATIK ARIZA 0\n",
      "(C 110) MAZAK VTC-200-C (DİM) (4.9) TEZGAH REVİZYON 0\n",
      "(C 110) MAZAK VTC-200-C (DİM) (4.5) SOGUTMA 646\n",
      "(C 110) MAZAK VTC-200-C (DİM) (4.6) OPERATÖR 0\n",
      "\n",
      "\n",
      "(C 112) MAZAK HCN-6800 II (YİM) (4.7) BAKIMCI BEKLEME 4123\n",
      "(C 112) MAZAK HCN-6800 II (YİM) (4.2) MEKANIK ARIZA 5978\n",
      "(C 112) MAZAK HCN-6800 II (YİM) (4.1) ELEKTRIK ARIZA 2745\n",
      "(C 112) MAZAK HCN-6800 II (YİM) (4.3) HIDROLIK ARIZA 286\n",
      "(C 112) MAZAK HCN-6800 II (YİM) (4.8) GENEL KOMPRESÖR ARIZASI 0\n",
      "(C 112) MAZAK HCN-6800 II (YİM) (4.10) BAKIM MALZEME BEKLEME 0\n",
      "(C 112) MAZAK HCN-6800 II (YİM) (4.4) PNOMATIK ARIZA 40\n",
      "(C 112) MAZAK HCN-6800 II (YİM) (4.9) TEZGAH REVİZYON 186\n",
      "(C 112) MAZAK HCN-6800 II (YİM) (4.5) SOGUTMA 815\n",
      "(C 112) MAZAK HCN-6800 II (YİM) (4.6) OPERATÖR 82\n",
      "\n",
      "\n"
     ]
    }
   ],
   "source": [
    "    arizasureler=[]\n",
    "    for k in uniqmakineler:\n",
    "    \n",
    "        \n",
    "        i=1\n",
    "        \n",
    "        for y in uniqarizalar:\n",
    "            sum = 0\n",
    "            for x in range(len(df)):\n",
    "                if (df.iloc[x][\"Makine\"] == k and df.iloc[x][\"Arıza Grup 2\"] == y): \n",
    "                    sum += df.iloc[x][\"Çalışma Süresi(Dk) Toplam\"]\n",
    "             \n",
    "            \n",
    "            print(k, y ,sum)\n",
    "            arizasureler.append([sum,y,k]) \n",
    "        print(\"\\n\")\n",
    "\n",
    "       "
   ]
  },
  {
   "cell_type": "code",
   "execution_count": 69,
   "id": "584ccca2",
   "metadata": {},
   "outputs": [
    {
     "name": "stdout",
     "output_type": "stream",
     "text": [
      "(C 112) MAZAK HCN-6800 II (YİM) (4.7) BAKIMCI BEKLEME 10649\n",
      "(C 112) MAZAK HCN-6800 II (YİM) (4.2) MEKANIK ARIZA 32715\n",
      "(C 112) MAZAK HCN-6800 II (YİM) (4.1) ELEKTRIK ARIZA 15208\n",
      "(C 112) MAZAK HCN-6800 II (YİM) (4.3) HIDROLIK ARIZA 747\n",
      "(C 112) MAZAK HCN-6800 II (YİM) (4.8) GENEL KOMPRESÖR ARIZASI 3101\n",
      "(C 112) MAZAK HCN-6800 II (YİM) (4.10) BAKIM MALZEME BEKLEME 12899\n",
      "(C 112) MAZAK HCN-6800 II (YİM) (4.4) PNOMATIK ARIZA 43\n",
      "(C 112) MAZAK HCN-6800 II (YİM) (4.9) TEZGAH REVİZYON 187\n",
      "(C 112) MAZAK HCN-6800 II (YİM) (4.5) SOGUTMA 1530\n",
      "(C 112) MAZAK HCN-6800 II (YİM) (4.6) OPERATÖR 82\n",
      "\n",
      "\n"
     ]
    }
   ],
   "source": [
    "arizasureler2=[]\n",
    "        \n",
    "i=1\n",
    "\n",
    "for y in uniqarizalar:\n",
    "    sum = 0\n",
    "    for x in range(len(df)):\n",
    "        if ( df.iloc[x][\"Arıza Grup 2\"] == y): \n",
    "            sum += df.iloc[x][\"Çalışma Süresi(Dk) Toplam\"]\n",
    "\n",
    "\n",
    "    print(k, y ,sum)\n",
    "    arizasureler2.append([sum,y]) \n",
    "print(\"\\n\")"
   ]
  },
  {
   "cell_type": "code",
   "execution_count": 70,
   "id": "708bb3a0",
   "metadata": {},
   "outputs": [
    {
     "name": "stdout",
     "output_type": "stream",
     "text": [
      "en çok duruşa sebep olan arıza :  [32715, '(4.2) MEKANIK ARIZA']\n"
     ]
    },
    {
     "data": {
      "text/plain": [
       "[[32715, '(4.2) MEKANIK ARIZA'],\n",
       " [15208, '(4.1) ELEKTRIK ARIZA'],\n",
       " [12899, '(4.10) BAKIM MALZEME BEKLEME'],\n",
       " [10649, '(4.7) BAKIMCI BEKLEME'],\n",
       " [3101, '(4.8) GENEL KOMPRESÖR ARIZASI'],\n",
       " [1530, '(4.5) SOGUTMA'],\n",
       " [747, '(4.3) HIDROLIK ARIZA'],\n",
       " [187, '(4.9) TEZGAH REVİZYON'],\n",
       " [82, '(4.6) OPERATÖR'],\n",
       " [43, '(4.4) PNOMATIK ARIZA']]"
      ]
     },
     "execution_count": 70,
     "metadata": {},
     "output_type": "execute_result"
    }
   ],
   "source": [
    "arizasureler2.sort(reverse = True)\n",
    "\n",
    "print(\"en çok duruşa sebep olan arıza : \", arizasureler2[0])\n",
    "arizasureler2"
   ]
  },
  {
   "cell_type": "code",
   "execution_count": 71,
   "id": "5023fa59",
   "metadata": {},
   "outputs": [
    {
     "data": {
      "text/plain": [
       "[[9815, '(4.2) MEKANIK ARIZA', '(C 102) MAZAK QTN-II-150 (TORNA)'],\n",
       " [7910, '(4.10) BAKIM MALZEME BEKLEME', '(C 110) MAZAK VTC-200-C (DİM)'],\n",
       " [5978, '(4.2) MEKANIK ARIZA', '(C 112) MAZAK HCN-6800 II (YİM)'],\n",
       " [4789, '(4.2) MEKANIK ARIZA', '(C 10) MAZAK QT-28N (TORNA)'],\n",
       " [4123, '(4.7) BAKIMCI BEKLEME', '(C 112) MAZAK HCN-6800 II (YİM)'],\n",
       " [4111, '(4.1) ELEKTRIK ARIZA', '(C 102) MAZAK QTN-II-150 (TORNA)'],\n",
       " [3933, '(4.2) MEKANIK ARIZA', '(C 02) MAZAK QT-28N (TORNA)'],\n",
       " [3868, '(4.2) MEKANIK ARIZA', '(C 103) MAZAK QTN-II-150 (TORNA)'],\n",
       " [3379, '(4.1) ELEKTRIK ARIZA', '(C 101) MAZAK QTN-II-150 (TORNA)'],\n",
       " [2745, '(4.1) ELEKTRIK ARIZA', '(C 112) MAZAK HCN-6800 II (YİM)'],\n",
       " [2571, '(4.10) BAKIM MALZEME BEKLEME', '(C 101) MAZAK QTN-II-150 (TORNA)'],\n",
       " [2353, '(4.2) MEKANIK ARIZA', '(C 110) MAZAK VTC-200-C (DİM)'],\n",
       " [1991, '(4.10) BAKIM MALZEME BEKLEME', '(C 102) MAZAK QTN-II-150 (TORNA)'],\n",
       " [1461, '(4.2) MEKANIK ARIZA', '(C 107) LİMİT KGS16324HO (NC TAŞLAMA)'],\n",
       " [1234, '(4.7) BAKIMCI BEKLEME', '(C 102) MAZAK QTN-II-150 (TORNA)'],\n",
       " [1119, '(4.1) ELEKTRIK ARIZA', '(C 110) MAZAK VTC-200-C (DİM)'],\n",
       " [1060, '(4.1) ELEKTRIK ARIZA', '(C 103) MAZAK QTN-II-150 (TORNA)'],\n",
       " [1006, '(4.7) BAKIMCI BEKLEME', '(C 110) MAZAK VTC-200-C (DİM)'],\n",
       " [926, '(4.1) ELEKTRIK ARIZA', '(C 100) MAZAK QTN-II-200 (TORNA)'],\n",
       " [815, '(4.5) SOGUTMA', '(C 112) MAZAK HCN-6800 II (YİM)'],\n",
       " [774, '(4.1) ELEKTRIK ARIZA', '(C 107) LİMİT KGS16324HO (NC TAŞLAMA)'],\n",
       " [661, '(4.7) BAKIMCI BEKLEME', '(C 109) MAZAK QTN-250 II (TORNA)'],\n",
       " [646, '(4.5) SOGUTMA', '(C 110) MAZAK VTC-200-C (DİM)'],\n",
       " [645, '(4.7) BAKIMCI BEKLEME', '(C 02) MAZAK QT-28N (TORNA)'],\n",
       " [592, '(4.7) BAKIMCI BEKLEME', '(C 10) MAZAK QT-28N (TORNA)'],\n",
       " [503, '(4.7) BAKIMCI BEKLEME', '(C 103) MAZAK QTN-II-150 (TORNA)'],\n",
       " [491, '(4.7) BAKIMCI BEKLEME', '(C 100) MAZAK QTN-II-200 (TORNA)'],\n",
       " [455, '(4.1) ELEKTRIK ARIZA', '(C 10) MAZAK QT-28N (TORNA)'],\n",
       " [427, '(4.10) BAKIM MALZEME BEKLEME', '(C 02) MAZAK QT-28N (TORNA)'],\n",
       " [419, '(4.8) GENEL KOMPRESÖR ARIZASI', '(C 10) MAZAK QT-28N (TORNA)'],\n",
       " [393, '(4.7) BAKIMCI BEKLEME', '(C 105) MAZAK HCN-5000 (YİM)'],\n",
       " [382, '(4.8) GENEL KOMPRESÖR ARIZASI', '(C 110) MAZAK VTC-200-C (DİM)'],\n",
       " [378, '(4.7) BAKIMCI BEKLEME', '(C 101) MAZAK QTN-II-150 (TORNA)'],\n",
       " [371, '(4.8) GENEL KOMPRESÖR ARIZASI', '(C 02) MAZAK QT-28N (TORNA)'],\n",
       " [346, '(4.8) GENEL KOMPRESÖR ARIZASI', '(C 108) MAZAK QTN-250 II (TORNA)'],\n",
       " [333, '(4.7) BAKIMCI BEKLEME', '(C 107) LİMİT KGS16324HO (NC TAŞLAMA)'],\n",
       " [311,\n",
       "  '(4.8) GENEL KOMPRESÖR ARIZASI',\n",
       "  '(C 107) LİMİT KGS16324HO (NC TAŞLAMA)'],\n",
       " [294, '(4.8) GENEL KOMPRESÖR ARIZASI', '(C 103) MAZAK QTN-II-150 (TORNA)'],\n",
       " [294, '(4.8) GENEL KOMPRESÖR ARIZASI', '(C 102) MAZAK QTN-II-150 (TORNA)'],\n",
       " [293, '(4.8) GENEL KOMPRESÖR ARIZASI', '(C 101) MAZAK QTN-II-150 (TORNA)'],\n",
       " [293, '(4.8) GENEL KOMPRESÖR ARIZASI', '(C 100) MAZAK QTN-II-200 (TORNA)'],\n",
       " [290, '(4.7) BAKIMCI BEKLEME', '(C 108) MAZAK QTN-250 II (TORNA)'],\n",
       " [286, '(4.3) HIDROLIK ARIZA', '(C 112) MAZAK HCN-6800 II (YİM)'],\n",
       " [220, '(4.1) ELEKTRIK ARIZA', '(C 109) MAZAK QTN-250 II (TORNA)'],\n",
       " [206, '(4.3) HIDROLIK ARIZA', '(C 02) MAZAK QT-28N (TORNA)'],\n",
       " [189, '(4.1) ELEKTRIK ARIZA', '(C 105) MAZAK HCN-5000 (YİM)'],\n",
       " [186, '(4.9) TEZGAH REVİZYON', '(C 112) MAZAK HCN-6800 II (YİM)'],\n",
       " [180, '(4.1) ELEKTRIK ARIZA', '(C 02) MAZAK QT-28N (TORNA)'],\n",
       " [162, '(4.2) MEKANIK ARIZA', '(C 101) MAZAK QTN-II-150 (TORNA)'],\n",
       " [157, '(4.2) MEKANIK ARIZA', '(C 109) MAZAK QTN-250 II (TORNA)'],\n",
       " [154, '(4.3) HIDROLIK ARIZA', '(C 10) MAZAK QT-28N (TORNA)'],\n",
       " [98, '(4.8) GENEL KOMPRESÖR ARIZASI', '(C 109) MAZAK QTN-250 II (TORNA)'],\n",
       " [89, '(4.2) MEKANIK ARIZA', '(C 105) MAZAK HCN-5000 (YİM)'],\n",
       " [82, '(4.6) OPERATÖR', '(C 112) MAZAK HCN-6800 II (YİM)'],\n",
       " [80, '(4.3) HIDROLIK ARIZA', '(C 108) MAZAK QTN-250 II (TORNA)'],\n",
       " [67, '(4.2) MEKANIK ARIZA', '(C 108) MAZAK QTN-250 II (TORNA)'],\n",
       " [55, '(4.5) SOGUTMA', '(C 103) MAZAK QTN-II-150 (TORNA)'],\n",
       " [50, '(4.1) ELEKTRIK ARIZA', '(C 108) MAZAK QTN-250 II (TORNA)'],\n",
       " [43, '(4.2) MEKANIK ARIZA', '(C 100) MAZAK QTN-II-200 (TORNA)'],\n",
       " [40, '(4.4) PNOMATIK ARIZA', '(C 112) MAZAK HCN-6800 II (YİM)'],\n",
       " [20, '(4.3) HIDROLIK ARIZA', '(C 109) MAZAK QTN-250 II (TORNA)'],\n",
       " [8, '(4.5) SOGUTMA', '(C 107) LİMİT KGS16324HO (NC TAŞLAMA)'],\n",
       " [6, '(4.5) SOGUTMA', '(C 105) MAZAK HCN-5000 (YİM)'],\n",
       " [3, '(4.4) PNOMATIK ARIZA', '(C 101) MAZAK QTN-II-150 (TORNA)'],\n",
       " [1, '(4.9) TEZGAH REVİZYON', '(C 103) MAZAK QTN-II-150 (TORNA)'],\n",
       " [1, '(4.3) HIDROLIK ARIZA', '(C 101) MAZAK QTN-II-150 (TORNA)'],\n",
       " [0, '(4.9) TEZGAH REVİZYON', '(C 110) MAZAK VTC-200-C (DİM)'],\n",
       " [0, '(4.9) TEZGAH REVİZYON', '(C 109) MAZAK QTN-250 II (TORNA)'],\n",
       " [0, '(4.9) TEZGAH REVİZYON', '(C 108) MAZAK QTN-250 II (TORNA)'],\n",
       " [0, '(4.9) TEZGAH REVİZYON', '(C 107) LİMİT KGS16324HO (NC TAŞLAMA)'],\n",
       " [0, '(4.9) TEZGAH REVİZYON', '(C 105) MAZAK HCN-5000 (YİM)'],\n",
       " [0, '(4.9) TEZGAH REVİZYON', '(C 102) MAZAK QTN-II-150 (TORNA)'],\n",
       " [0, '(4.9) TEZGAH REVİZYON', '(C 101) MAZAK QTN-II-150 (TORNA)'],\n",
       " [0, '(4.9) TEZGAH REVİZYON', '(C 100) MAZAK QTN-II-200 (TORNA)'],\n",
       " [0, '(4.9) TEZGAH REVİZYON', '(C 10) MAZAK QT-28N (TORNA)'],\n",
       " [0, '(4.9) TEZGAH REVİZYON', '(C 02) MAZAK QT-28N (TORNA)'],\n",
       " [0, '(4.8) GENEL KOMPRESÖR ARIZASI', '(C 112) MAZAK HCN-6800 II (YİM)'],\n",
       " [0, '(4.8) GENEL KOMPRESÖR ARIZASI', '(C 105) MAZAK HCN-5000 (YİM)'],\n",
       " [0, '(4.6) OPERATÖR', '(C 110) MAZAK VTC-200-C (DİM)'],\n",
       " [0, '(4.6) OPERATÖR', '(C 109) MAZAK QTN-250 II (TORNA)'],\n",
       " [0, '(4.6) OPERATÖR', '(C 108) MAZAK QTN-250 II (TORNA)'],\n",
       " [0, '(4.6) OPERATÖR', '(C 107) LİMİT KGS16324HO (NC TAŞLAMA)'],\n",
       " [0, '(4.6) OPERATÖR', '(C 105) MAZAK HCN-5000 (YİM)'],\n",
       " [0, '(4.6) OPERATÖR', '(C 103) MAZAK QTN-II-150 (TORNA)'],\n",
       " [0, '(4.6) OPERATÖR', '(C 102) MAZAK QTN-II-150 (TORNA)'],\n",
       " [0, '(4.6) OPERATÖR', '(C 101) MAZAK QTN-II-150 (TORNA)'],\n",
       " [0, '(4.6) OPERATÖR', '(C 100) MAZAK QTN-II-200 (TORNA)'],\n",
       " [0, '(4.6) OPERATÖR', '(C 10) MAZAK QT-28N (TORNA)'],\n",
       " [0, '(4.6) OPERATÖR', '(C 02) MAZAK QT-28N (TORNA)'],\n",
       " [0, '(4.5) SOGUTMA', '(C 109) MAZAK QTN-250 II (TORNA)'],\n",
       " [0, '(4.5) SOGUTMA', '(C 108) MAZAK QTN-250 II (TORNA)'],\n",
       " [0, '(4.5) SOGUTMA', '(C 102) MAZAK QTN-II-150 (TORNA)'],\n",
       " [0, '(4.5) SOGUTMA', '(C 101) MAZAK QTN-II-150 (TORNA)'],\n",
       " [0, '(4.5) SOGUTMA', '(C 100) MAZAK QTN-II-200 (TORNA)'],\n",
       " [0, '(4.5) SOGUTMA', '(C 10) MAZAK QT-28N (TORNA)'],\n",
       " [0, '(4.5) SOGUTMA', '(C 02) MAZAK QT-28N (TORNA)'],\n",
       " [0, '(4.4) PNOMATIK ARIZA', '(C 110) MAZAK VTC-200-C (DİM)'],\n",
       " [0, '(4.4) PNOMATIK ARIZA', '(C 109) MAZAK QTN-250 II (TORNA)'],\n",
       " [0, '(4.4) PNOMATIK ARIZA', '(C 108) MAZAK QTN-250 II (TORNA)'],\n",
       " [0, '(4.4) PNOMATIK ARIZA', '(C 107) LİMİT KGS16324HO (NC TAŞLAMA)'],\n",
       " [0, '(4.4) PNOMATIK ARIZA', '(C 105) MAZAK HCN-5000 (YİM)'],\n",
       " [0, '(4.4) PNOMATIK ARIZA', '(C 103) MAZAK QTN-II-150 (TORNA)'],\n",
       " [0, '(4.4) PNOMATIK ARIZA', '(C 102) MAZAK QTN-II-150 (TORNA)'],\n",
       " [0, '(4.4) PNOMATIK ARIZA', '(C 100) MAZAK QTN-II-200 (TORNA)'],\n",
       " [0, '(4.4) PNOMATIK ARIZA', '(C 10) MAZAK QT-28N (TORNA)'],\n",
       " [0, '(4.4) PNOMATIK ARIZA', '(C 02) MAZAK QT-28N (TORNA)'],\n",
       " [0, '(4.3) HIDROLIK ARIZA', '(C 110) MAZAK VTC-200-C (DİM)'],\n",
       " [0, '(4.3) HIDROLIK ARIZA', '(C 107) LİMİT KGS16324HO (NC TAŞLAMA)'],\n",
       " [0, '(4.3) HIDROLIK ARIZA', '(C 105) MAZAK HCN-5000 (YİM)'],\n",
       " [0, '(4.3) HIDROLIK ARIZA', '(C 103) MAZAK QTN-II-150 (TORNA)'],\n",
       " [0, '(4.3) HIDROLIK ARIZA', '(C 102) MAZAK QTN-II-150 (TORNA)'],\n",
       " [0, '(4.3) HIDROLIK ARIZA', '(C 100) MAZAK QTN-II-200 (TORNA)'],\n",
       " [0, '(4.10) BAKIM MALZEME BEKLEME', '(C 112) MAZAK HCN-6800 II (YİM)'],\n",
       " [0, '(4.10) BAKIM MALZEME BEKLEME', '(C 109) MAZAK QTN-250 II (TORNA)'],\n",
       " [0, '(4.10) BAKIM MALZEME BEKLEME', '(C 108) MAZAK QTN-250 II (TORNA)'],\n",
       " [0, '(4.10) BAKIM MALZEME BEKLEME', '(C 107) LİMİT KGS16324HO (NC TAŞLAMA)'],\n",
       " [0, '(4.10) BAKIM MALZEME BEKLEME', '(C 105) MAZAK HCN-5000 (YİM)'],\n",
       " [0, '(4.10) BAKIM MALZEME BEKLEME', '(C 103) MAZAK QTN-II-150 (TORNA)'],\n",
       " [0, '(4.10) BAKIM MALZEME BEKLEME', '(C 100) MAZAK QTN-II-200 (TORNA)'],\n",
       " [0, '(4.10) BAKIM MALZEME BEKLEME', '(C 10) MAZAK QT-28N (TORNA)']]"
      ]
     },
     "execution_count": 71,
     "metadata": {},
     "output_type": "execute_result"
    }
   ],
   "source": [
    "arizasureler.sort(reverse = True)\n",
    "arizasureler"
   ]
  },
  {
   "cell_type": "markdown",
   "id": "7fb7caf9",
   "metadata": {},
   "source": [
    "# En çok duruş süresine sahip makinenin hangi parçasında en çok arıza çıkıyor değerlendirmesi."
   ]
  },
  {
   "cell_type": "code",
   "execution_count": 72,
   "id": "123c1320",
   "metadata": {},
   "outputs": [
    {
     "data": {
      "text/plain": [
       "array([nan, '(4.2.3) KAYIS, KAPLIN, REDÜKTÖR, KASNAK', '(4.2.6) TURRET',\n",
       "       '(4.1.4) SWITCH, SENSOR, PROB', '(4.1.9) MUHTELIF ELEKTRIK',\n",
       "       '(4.2.12) MUHTELIF MEKANIK', '(4.3.3) HORTUM',\n",
       "       '(4.1.2) ELEKTRONIK KART', '(4.10.1) TEZGAHA PARÇA BEKLENİYOR',\n",
       "       '(4.1.7) PARAMETRE, INITIALIZE', '(4.2.4) SPINDLE',\n",
       "       '(4.2.8) VIDALI MIL', '(4.2.10) YAGLAMA', '(4.1.3) FAN',\n",
       "       '(4.4.1) VALF', '(4.3.5) YAG EKSIKLIGI', '(4.1.6) MOTOR',\n",
       "       '(4.1.5) CETVEL, ENCODER', '(4.2.5) TABLA, PALET',\n",
       "       '(4.2.11) KONVEYÖR', '(4.2.9) KIZAK', '(4.5.4) MUHTELIF',\n",
       "       '(4.2.7) MAGAZIN, ATC', '(4.5.3) FILTRE', '(4.5.2) BORYAG',\n",
       "       '(4.1.8) ELK. PANO IÇI ASIRI SICAKLIGI',\n",
       "       '(4.3.2) POMPA, O-RING, KEÇE, CONTA', '(4.2.2) KAPI, SAC, COVER',\n",
       "       '(4.1.10) ELEKTRİK KESİNTİSİ/DALGALANMASI',\n",
       "       '(4.6.6) KAPI,SAC,COVER', '(4.6.10) PARAMETRE,KUMANDA,PROGRAM',\n",
       "       '(4.3.6) MUHTELIF HIDROLIK MALZEME', '(4.3.1) VALF',\n",
       "       '(4.4.2) HORTUM', '(4.1.1) ELEKTRIK KOMPONENT, KABLO',\n",
       "       '(4.3.7) DIGER', '(4.3.4) FILTRE'], dtype=object)"
      ]
     },
     "execution_count": 72,
     "metadata": {},
     "output_type": "execute_result"
    }
   ],
   "source": [
    "#arıza parçaların ayrımı\n",
    "uniqarizaparcalari=df[\"Arıza Grup 3\"].unique()\n",
    "uniqarizaparcalari"
   ]
  },
  {
   "cell_type": "code",
   "execution_count": 73,
   "id": "ab502da0",
   "metadata": {},
   "outputs": [
    {
     "name": "stdout",
     "output_type": "stream",
     "text": [
      "(C 112) MAZAK HCN-6800 II (YİM) (4.2.3) KAYIS, KAPLIN, REDÜKTÖR, KASNAK ------- 1121\n",
      "(C 112) MAZAK HCN-6800 II (YİM) (4.2.6) TURRET ------- 2719\n",
      "(C 112) MAZAK HCN-6800 II (YİM) (4.1.4) SWITCH, SENSOR, PROB ------- 87\n",
      "(C 112) MAZAK HCN-6800 II (YİM) (4.1.9) MUHTELIF ELEKTRIK ------- 46\n",
      "(C 112) MAZAK HCN-6800 II (YİM) (4.2.12) MUHTELIF MEKANIK ------- 93\n",
      "(C 112) MAZAK HCN-6800 II (YİM) (4.3.3) HORTUM ------- 206\n",
      "(C 112) MAZAK HCN-6800 II (YİM) (4.1.2) ELEKTRONIK KART ------- 47\n",
      "(C 112) MAZAK HCN-6800 II (YİM) (4.10.1) TEZGAHA PARÇA BEKLENİYOR ------- 427\n",
      "\n",
      "\n"
     ]
    }
   ],
   "source": [
    "    arizaparcalar=[]\n",
    "    \n",
    "    i=1\n",
    "\n",
    "    for y in uniqarizaparcalari:\n",
    "        sum = 0\n",
    "        for x in range(len(df)):\n",
    "            if (df.iloc[x][\"Arıza Grup 3\"] == y ): \n",
    "                 if(df.iloc[x][\"Makine\"] == makinesüreler[0][1]):\n",
    "                    sum += df.iloc[x][\"Çalışma Süresi(Dk) Toplam\"]\n",
    "\n",
    "        if (sum !=0):\n",
    "            arizaparcalar.append([sum,y]) \n",
    "            print(k, y ,\"-------\",sum)\n",
    "\n",
    "    print(\"\\n\")"
   ]
  },
  {
   "cell_type": "code",
   "execution_count": 74,
   "id": "2ea0260a",
   "metadata": {},
   "outputs": [
    {
     "data": {
      "text/plain": [
       "[[2719, '(4.2.6) TURRET'],\n",
       " [1121, '(4.2.3) KAYIS, KAPLIN, REDÜKTÖR, KASNAK'],\n",
       " [427, '(4.10.1) TEZGAHA PARÇA BEKLENİYOR'],\n",
       " [206, '(4.3.3) HORTUM'],\n",
       " [93, '(4.2.12) MUHTELIF MEKANIK'],\n",
       " [87, '(4.1.4) SWITCH, SENSOR, PROB'],\n",
       " [47, '(4.1.2) ELEKTRONIK KART'],\n",
       " [46, '(4.1.9) MUHTELIF ELEKTRIK']]"
      ]
     },
     "execution_count": 74,
     "metadata": {},
     "output_type": "execute_result"
    }
   ],
   "source": [
    "arizaparcalar.sort(reverse = True)\n",
    "arizaparcalar"
   ]
  },
  {
   "cell_type": "code",
   "execution_count": 75,
   "id": "1c71fedb",
   "metadata": {},
   "outputs": [
    {
     "data": {
      "text/plain": [
       "[2719, '(4.2.6) TURRET']"
      ]
     },
     "execution_count": 75,
     "metadata": {},
     "output_type": "execute_result"
    }
   ],
   "source": [
    "# En çok duruş süresine sahip makinenin en çok arıza ÇIKARAN PARÇASI\n",
    "arizaparcalar[0]"
   ]
  },
  {
   "cell_type": "markdown",
   "id": "c786b5ea",
   "metadata": {},
   "source": [
    "# DATABASE BAĞLANMA"
   ]
  },
  {
   "cell_type": "code",
   "execution_count": 76,
   "id": "d95450c5",
   "metadata": {},
   "outputs": [
    {
     "name": "stdout",
     "output_type": "stream",
     "text": [
      "Requirement already satisfied: psycopg2 in c:\\users\\asus-1\\anaconda3\\lib\\site-packages (2.9.5)\n",
      "Note: you may need to restart the kernel to use updated packages.\n"
     ]
    }
   ],
   "source": [
    "pip install psycopg2"
   ]
  },
  {
   "cell_type": "code",
   "execution_count": 77,
   "id": "33be77ad",
   "metadata": {},
   "outputs": [],
   "source": [
    "import psycopg2"
   ]
  },
  {
   "cell_type": "code",
   "execution_count": 78,
   "id": "d0fe5a43",
   "metadata": {},
   "outputs": [
    {
     "name": "stdout",
     "output_type": "stream",
     "text": [
      "Opened database successfully\n"
     ]
    }
   ],
   "source": [
    "db = psycopg2.connect(user = \"postgres\",\n",
    "                      password = \"Semafor4.\",\n",
    "                      host = \"192.168.1.51\",\n",
    "                      port = \"5432\",\n",
    "                      database = \"totomakv2\")\n",
    "print (\"Opened database successfully\")"
   ]
  },
  {
   "cell_type": "code",
   "execution_count": 79,
   "id": "04163c7a",
   "metadata": {},
   "outputs": [],
   "source": [
    "\n",
    "#Veritabanı bağlantısı ile komutlarımızı gönderebilmek için aracı bir imleç oluşturmamız gerekiyor. İmleç oluşturmak için aşağıdaki kodları kullanabilirsiniz.\n",
    "imlec = db.cursor()\n"
   ]
  },
  {
   "cell_type": "code",
   "execution_count": 80,
   "id": "ea409f92",
   "metadata": {},
   "outputs": [
    {
     "name": "stdout",
     "output_type": "stream",
     "text": [
      "{'user': 'postgres', 'channel_binding': 'prefer', 'dbname': 'totomakv2', 'host': '192.168.1.51', 'port': '5432', 'options': '', 'sslmode': 'prefer', 'sslcompression': '0', 'sslsni': '1', 'ssl_min_protocol_version': 'TLSv1.2', 'gssencmode': 'disable', 'krbsrvname': 'postgres', 'target_session_attrs': 'any'}\n"
     ]
    }
   ],
   "source": [
    "#Buraya kadar olan işlemlerin doğruluğunu test etmek için aşağıdaki komut ile bağlantı bilgilerimizi ekrana yazdıralım.\n",
    "\n",
    "print( db.get_dsn_parameters() )"
   ]
  },
  {
   "cell_type": "code",
   "execution_count": 81,
   "id": "60f06738",
   "metadata": {},
   "outputs": [],
   "source": [
    "komut_CREATE = \"\"\" CREATE TABLE makinesüreler(\n",
    "                id SERIAL PRIMARY KEY,\n",
    "                makineadi TEXT NOT NULL,\n",
    "                durussuresi INT NOT NULL\n",
    "                );\n",
    "                \"\"\"\n",
    "\n",
    "imlec.execute(komut_CREATE)\n",
    "db.commit()\n",
    "#Burada SQL komutumuzu yazdıktan sonra execute() fonksiyonu ile çalıştırıyoruz ve değişikliklerin veritabanı üzerinde de yapılması için commit() fonksiyonu ile işlemi tamamlıyoruz."
   ]
  },
  {
   "cell_type": "code",
   "execution_count": 85,
   "id": "6c0a4455",
   "metadata": {},
   "outputs": [
    {
     "data": {
      "text/plain": [
       "[[17445, '(C 102) MAZAK QTN-II-150 (TORNA)'],\n",
       " [14255, '(C 112) MAZAK HCN-6800 II (YİM)'],\n",
       " [13416, '(C 110) MAZAK VTC-200-C (DİM)'],\n",
       " [6787, '(C 101) MAZAK QTN-II-150 (TORNA)'],\n",
       " [6409, '(C 10) MAZAK QT-28N (TORNA)'],\n",
       " [5781, '(C 103) MAZAK QTN-II-150 (TORNA)'],\n",
       " [5762, '(C 02) MAZAK QT-28N (TORNA)'],\n",
       " [2887, '(C 107) LİMİT KGS16324HO (NC TAŞLAMA)'],\n",
       " [1753, '(C 100) MAZAK QTN-II-200 (TORNA)'],\n",
       " [1156, '(C 109) MAZAK QTN-250 II (TORNA)'],\n",
       " [833, '(C 108) MAZAK QTN-250 II (TORNA)'],\n",
       " [677, '(C 105) MAZAK HCN-5000 (YİM)']]"
      ]
     },
     "execution_count": 85,
     "metadata": {},
     "output_type": "execute_result"
    }
   ],
   "source": [
    "makinesüreler"
   ]
  },
  {
   "cell_type": "code",
   "execution_count": 86,
   "id": "ef3a9607",
   "metadata": {},
   "outputs": [
    {
     "name": "stdout",
     "output_type": "stream",
     "text": [
      "Records created successfully\n"
     ]
    }
   ],
   "source": [
    "i=0\n",
    "for süre in makinesüreler:\n",
    "    komut_INSERT = f\"INSERT INTO makinesüreler(makineadi,durussuresi) VALUES('{süre[1]}',{süre[0]});\"\n",
    "    imlec.execute(komut_INSERT)\n",
    "    db.commit()\n",
    "print (\"Records created successfully\")"
   ]
  },
  {
   "cell_type": "code",
   "execution_count": 100,
   "id": "38195aee",
   "metadata": {},
   "outputs": [],
   "source": [
    "#hatalı yazdığım tamamlanamayan database komutlarını siliyor\n",
    "rb=\"ROLLBACK;\"\n",
    "\n",
    "imlec.execute(rb)\n",
    "db.commit()"
   ]
  },
  {
   "cell_type": "code",
   "execution_count": 88,
   "id": "6f2e4ae7",
   "metadata": {},
   "outputs": [
    {
     "name": "stdout",
     "output_type": "stream",
     "text": [
      "Records created successfully\n"
     ]
    }
   ],
   "source": [
    "\n",
    "imlec.execute(\"INSERT INTO makinesüreler(makineadi,durussuresi) VALUES('iğp',456);\")\n",
    "db.commit()\n",
    "print (\"Records created successfully\")"
   ]
  },
  {
   "cell_type": "markdown",
   "id": "b084c0b6",
   "metadata": {},
   "source": [
    "# parçalar için tablo"
   ]
  },
  {
   "cell_type": "code",
   "execution_count": 89,
   "id": "5aa1a253",
   "metadata": {},
   "outputs": [
    {
     "ename": "DuplicateTable",
     "evalue": "relation \"parcasüreler\" already exists\n",
     "output_type": "error",
     "traceback": [
      "\u001b[1;31m---------------------------------------------------------------------------\u001b[0m",
      "\u001b[1;31mDuplicateTable\u001b[0m                            Traceback (most recent call last)",
      "Input \u001b[1;32mIn [89]\u001b[0m, in \u001b[0;36m<cell line: 8>\u001b[1;34m()\u001b[0m\n\u001b[0;32m      1\u001b[0m komut_CREATE \u001b[38;5;241m=\u001b[39m \u001b[38;5;124m\"\"\"\u001b[39m\u001b[38;5;124m CREATE TABLE parcasüreler(\u001b[39m\n\u001b[0;32m      2\u001b[0m \u001b[38;5;124m                id SERIAL PRIMARY KEY,\u001b[39m\n\u001b[0;32m      3\u001b[0m \u001b[38;5;124m                parcaadi TEXT NOT NULL,\u001b[39m\n\u001b[0;32m      4\u001b[0m \u001b[38;5;124m                durussuresi INT NOT NULL\u001b[39m\n\u001b[0;32m      5\u001b[0m \u001b[38;5;124m                );\u001b[39m\n\u001b[0;32m      6\u001b[0m \u001b[38;5;124m                \u001b[39m\u001b[38;5;124m\"\"\"\u001b[39m\n\u001b[1;32m----> 8\u001b[0m \u001b[43mimlec\u001b[49m\u001b[38;5;241;43m.\u001b[39;49m\u001b[43mexecute\u001b[49m\u001b[43m(\u001b[49m\u001b[43mkomut_CREATE\u001b[49m\u001b[43m)\u001b[49m\n\u001b[0;32m      9\u001b[0m db\u001b[38;5;241m.\u001b[39mcommit()\n\u001b[0;32m     10\u001b[0m \u001b[38;5;28mprint\u001b[39m (\u001b[38;5;124m\"\u001b[39m\u001b[38;5;124mTablo oluşturuldu\u001b[39m\u001b[38;5;124m\"\u001b[39m)\n",
      "\u001b[1;31mDuplicateTable\u001b[0m: relation \"parcasüreler\" already exists\n"
     ]
    }
   ],
   "source": [
    "komut_CREATE = \"\"\" CREATE TABLE parcasüreler(\n",
    "                id SERIAL PRIMARY KEY,\n",
    "                parcaadi TEXT NOT NULL,\n",
    "                durussuresi INT NOT NULL\n",
    "                );\n",
    "                \"\"\"\n",
    "\n",
    "imlec.execute(komut_CREATE)\n",
    "db.commit()\n",
    "print (\"Tablo oluşturuldu\")"
   ]
  },
  {
   "cell_type": "code",
   "execution_count": 90,
   "id": "ec7437ce",
   "metadata": {},
   "outputs": [
    {
     "data": {
      "text/plain": [
       "[[2719, '(4.2.6) TURRET'],\n",
       " [1121, '(4.2.3) KAYIS, KAPLIN, REDÜKTÖR, KASNAK'],\n",
       " [427, '(4.10.1) TEZGAHA PARÇA BEKLENİYOR'],\n",
       " [206, '(4.3.3) HORTUM'],\n",
       " [93, '(4.2.12) MUHTELIF MEKANIK'],\n",
       " [87, '(4.1.4) SWITCH, SENSOR, PROB'],\n",
       " [47, '(4.1.2) ELEKTRONIK KART'],\n",
       " [46, '(4.1.9) MUHTELIF ELEKTRIK']]"
      ]
     },
     "execution_count": 90,
     "metadata": {},
     "output_type": "execute_result"
    }
   ],
   "source": [
    "#makine parçaları ve süreleri tabloya yazdırma\n",
    "arizaparcalar"
   ]
  },
  {
   "cell_type": "code",
   "execution_count": 91,
   "id": "46db185e",
   "metadata": {},
   "outputs": [
    {
     "ename": "InFailedSqlTransaction",
     "evalue": "current transaction is aborted, commands ignored until end of transaction block\n",
     "output_type": "error",
     "traceback": [
      "\u001b[1;31m---------------------------------------------------------------------------\u001b[0m",
      "\u001b[1;31mInFailedSqlTransaction\u001b[0m                    Traceback (most recent call last)",
      "Input \u001b[1;32mIn [91]\u001b[0m, in \u001b[0;36m<cell line: 1>\u001b[1;34m()\u001b[0m\n\u001b[0;32m      1\u001b[0m \u001b[38;5;28;01mfor\u001b[39;00m süre \u001b[38;5;129;01min\u001b[39;00m arizaparcalar:\n\u001b[0;32m      2\u001b[0m     komut_INSERT \u001b[38;5;241m=\u001b[39m \u001b[38;5;124mf\u001b[39m\u001b[38;5;124m\"\u001b[39m\u001b[38;5;124mINSERT INTO parcasüreler(parcaadi,durussuresi) VALUES(\u001b[39m\u001b[38;5;124m'\u001b[39m\u001b[38;5;132;01m{\u001b[39;00msüre[\u001b[38;5;241m1\u001b[39m]\u001b[38;5;132;01m}\u001b[39;00m\u001b[38;5;124m'\u001b[39m\u001b[38;5;124m,\u001b[39m\u001b[38;5;132;01m{\u001b[39;00msüre[\u001b[38;5;241m0\u001b[39m]\u001b[38;5;132;01m}\u001b[39;00m\u001b[38;5;124m);\u001b[39m\u001b[38;5;124m\"\u001b[39m\n\u001b[1;32m----> 3\u001b[0m     \u001b[43mimlec\u001b[49m\u001b[38;5;241;43m.\u001b[39;49m\u001b[43mexecute\u001b[49m\u001b[43m(\u001b[49m\u001b[43mkomut_INSERT\u001b[49m\u001b[43m)\u001b[49m\n\u001b[0;32m      4\u001b[0m     db\u001b[38;5;241m.\u001b[39mcommit()\n\u001b[0;32m      5\u001b[0m \u001b[38;5;28mprint\u001b[39m (\u001b[38;5;124m\"\u001b[39m\u001b[38;5;124mRecords created successfully\u001b[39m\u001b[38;5;124m\"\u001b[39m)\n",
      "\u001b[1;31mInFailedSqlTransaction\u001b[0m: current transaction is aborted, commands ignored until end of transaction block\n"
     ]
    }
   ],
   "source": [
    "\n",
    "for süre in arizaparcalar:\n",
    "    komut_INSERT = f\"INSERT INTO parcasüreler(parcaadi,durussuresi) VALUES('{süre[1]}',{süre[0]});\"\n",
    "    imlec.execute(komut_INSERT)\n",
    "    db.commit()\n",
    "print (\"Records created successfully\")"
   ]
  },
  {
   "cell_type": "markdown",
   "id": "b370c8eb",
   "metadata": {},
   "source": [
    "# personeller ve arıza süreleri için tablo"
   ]
  },
  {
   "cell_type": "code",
   "execution_count": 93,
   "id": "c2097ece",
   "metadata": {},
   "outputs": [
    {
     "name": "stdout",
     "output_type": "stream",
     "text": [
      "Tablo oluşturuldu\n"
     ]
    }
   ],
   "source": [
    "komut_CREATE = \"\"\" CREATE TABLE personelsüreler(\n",
    "                id SERIAL PRIMARY KEY,\n",
    "                personeladi TEXT NOT NULL,\n",
    "                durussuresi INT NOT NULL\n",
    "                );\n",
    "                \"\"\"\n",
    "\n",
    "imlec.execute(komut_CREATE)\n",
    "db.commit()\n",
    "print (\"Tablo oluşturuldu\")"
   ]
  },
  {
   "cell_type": "code",
   "execution_count": 94,
   "id": "ecb5cb28",
   "metadata": {},
   "outputs": [
    {
     "data": {
      "text/plain": [
       "[[16964, 'ARİF TARIM'],\n",
       " [11664, 'ELMAS URAK'],\n",
       " [8004, 'KEMAL DEMİR'],\n",
       " [7501, 'MEHMET AKA'],\n",
       " [5456, 'UMUT DEMİR'],\n",
       " [4881, 'GÖKHAN GÖK'],\n",
       " [4204, 'İLYAS ÖZ'],\n",
       " [2176, 'CUMHUR ALTIN'],\n",
       " [2044, 'İBRAHİM HALİL SALMAN'],\n",
       " [1771, 'NEVZAT CANPOLAT'],\n",
       " [1326, 'FATİH AKYOL'],\n",
       " [1143, 'GÖKAN BİRİNCİ'],\n",
       " [994, 'DURSUN ARIK'],\n",
       " [714, 'ZAFER ÇINAR'],\n",
       " [666, 'İBRAHİM MERCAN'],\n",
       " [580, 'GÜRKAN ÇETINER'],\n",
       " [457, 'MEHMET YASAR TASÇI'],\n",
       " [396, 'CAN ALBAYRAK'],\n",
       " [361, 'OZGUR SAMURCU'],\n",
       " [320, 'MEHMET ÇETIN'],\n",
       " [316, 'ÖZDEN ÇELIK'],\n",
       " [305, 'MAHMUT KIYMIK'],\n",
       " [299, 'LEVENT DEMİR'],\n",
       " [291, 'MEHMET UZUNOGLU'],\n",
       " [255, 'MURAT TILKI'],\n",
       " [254, 'HÜSEYIN KORKMAZ'],\n",
       " [224, 'MUSTAFA GÜNGÖR'],\n",
       " [221, 'ALI RIZA EREN'],\n",
       " [211, 'TEOMAN ÇORBACI'],\n",
       " [204, 'ERKAN SAHIN'],\n",
       " [199, 'MEHMET ERTUGRUL'],\n",
       " [184, 'SEFA CULFA'],\n",
       " [180, 'ESREF BÜYÜKULU'],\n",
       " [173, 'FATIH AKKIRAN'],\n",
       " [167, 'YÜKSEL TANER'],\n",
       " [152, 'İLKER SACÇI'],\n",
       " [139, 'HAŞİM GÜNTAŞ'],\n",
       " [131, 'HÜSEYİN ÇETİN'],\n",
       " [128, 'UFUK EŞME'],\n",
       " [126, 'HİDAYET KAHRAMAN'],\n",
       " [102, 'FERHAT BASTUG'],\n",
       " [99, 'BURAK ÇİFTÇİ'],\n",
       " [96, 'EMIN BORAN'],\n",
       " [93, 'HÜSEYİN YAMAÇTEPE'],\n",
       " [70, 'TOSKA VATANSEVER'],\n",
       " [67, 'YASIN BAYINDIR'],\n",
       " [67, 'KADİR KARAÇAY'],\n",
       " [66, 'KEMAL ILDEMIR'],\n",
       " [61, 'GÜVEN TAS'],\n",
       " [59, 'MUSTAFA KARAKUSLU'],\n",
       " [49, 'MUSTAFA ŞEKER'],\n",
       " [40, 'EMRE TUZALAN'],\n",
       " [39, 'GÜNER TOPALOGLU'],\n",
       " [38, 'HAYDAR KILIÇ'],\n",
       " [37, 'ENVER UÇMAZOGLU'],\n",
       " [35, 'ADEM YEŞİLYURT'],\n",
       " [33, 'SELÇUK GÜZEL'],\n",
       " [32, 'AYHAN AŞAĞI'],\n",
       " [28, 'MURAT ÖZGÜLSÜM'],\n",
       " [26, 'MÜKREMIN YILDIZ'],\n",
       " [23, 'TANER BURGUCU'],\n",
       " [23, 'HÜSEYİN GAZİ'],\n",
       " [22, 'ADEM BAĞIRAN'],\n",
       " [21, 'SERCAN EMRE'],\n",
       " [21, 'SENAİ HAYIRSEVER'],\n",
       " [21, 'OSMAN BULUT'],\n",
       " [21, 'ABDÜLHAKİM KAYA'],\n",
       " [20, 'KÜRŞAT SERT'],\n",
       " [20, 'FERHAT CEREN'],\n",
       " [11, 'İBRAHİM AYCAN'],\n",
       " [11, 'ADEM ÜZÜM'],\n",
       " [10, 'TAHİR ŞAT'],\n",
       " [6, 'YAKUP KORKMAZ'],\n",
       " [4, 'MURAT TOKGOZ'],\n",
       " [4, 'MURAT BOZER'],\n",
       " [3, 'FATİH ÖZKAN'],\n",
       " [1, 'MÜSLÜM GENÇOGLU'],\n",
       " [1, 'BAŞAR AKŞİT']]"
      ]
     },
     "execution_count": 94,
     "metadata": {},
     "output_type": "execute_result"
    }
   ],
   "source": [
    "personelsüreler"
   ]
  },
  {
   "cell_type": "code",
   "execution_count": 95,
   "id": "6d46d601",
   "metadata": {},
   "outputs": [
    {
     "name": "stdout",
     "output_type": "stream",
     "text": [
      "Records created successfully\n"
     ]
    }
   ],
   "source": [
    "\n",
    "for süre in personelsüreler:\n",
    "    komut_INSERT = f\"INSERT INTO personelsüreler(personeladi,durussuresi) VALUES('{süre[1]}',{süre[0]});\"\n",
    "    imlec.execute(komut_INSERT)\n",
    "    db.commit()\n",
    "print (\"Records created successfully\")"
   ]
  },
  {
   "cell_type": "markdown",
   "id": "91f849ab",
   "metadata": {},
   "source": [
    "# ÜRETİLEN PARÇALARIN YARATTIĞI DURUŞ SÜRELERİ İÇİN TABLO "
   ]
  },
  {
   "cell_type": "code",
   "execution_count": 96,
   "id": "ea2150c8",
   "metadata": {},
   "outputs": [
    {
     "data": {
      "text/plain": [
       "[[14255, '9,13E+19'],\n",
       " [7380, '007-0477-00000000040'],\n",
       " [7136, '1525503740000000D211'],\n",
       " [6490, '007-0473-00000000040'],\n",
       " [5791, '1,53E+19'],\n",
       " [4816, '001-0827-00000000030'],\n",
       " [4199, '501-0639-00000000010'],\n",
       " [4052, '007-0473-00000000030'],\n",
       " [3253, '007-0609-00000000032'],\n",
       " [1396, '007-0352-04000000030'],\n",
       " [1327, '007-0352-04000000040'],\n",
       " [1248, '007-0464-01000000030'],\n",
       " [1248, '007-0428-00000000031'],\n",
       " [1173, '501-0639-02000000010'],\n",
       " [1098, '007-0359-02000000040'],\n",
       " [1037, '001-0789-01000000010'],\n",
       " [1031, '007-0344-00000000041'],\n",
       " [959, '007-0514-00000000100'],\n",
       " [946, '001-0616-02000000030'],\n",
       " [870, '007-0344-03000000101'],\n",
       " [531, '007-0359-02000000030'],\n",
       " [493, '001-0726-00000000010'],\n",
       " [489, 'R9170080200000000030'],\n",
       " [435, '007-0514-00000000040'],\n",
       " [398, '001-0807-04000000055'],\n",
       " [355, '007-0394-01000000040'],\n",
       " [341, '007-0473-00000000100'],\n",
       " [322, '007-0344-03000000031'],\n",
       " [320, 'F00BC200600000000070'],\n",
       " [296, '007-0355-02000000030'],\n",
       " [279, '001-0791-00000000010'],\n",
       " [207, '007-0344-02000000101'],\n",
       " [206, '007-0363-01000000102'],\n",
       " [199, '001-0850-01000000010'],\n",
       " [196, '4304075H10000000020'],\n",
       " [182, '007-0464-01000000040'],\n",
       " [169, '3796338H3J0000000020'],\n",
       " [155, '007-0344-03000000041'],\n",
       " [142, 'F00BC202280000000070'],\n",
       " [130, 'R9021509100000000030'],\n",
       " [125, '007-0344-00000000031'],\n",
       " [115, '4,02E+19'],\n",
       " [115, '007-0631-00000000040'],\n",
       " [113, '007-0609-00000000040'],\n",
       " [103, '007-0363-00000000042'],\n",
       " [86, '007-0587-00000000040'],\n",
       " [82, '007-0344-00000000101'],\n",
       " [81, '007-0477-00000000100'],\n",
       " [79, '007-0367-00000000040'],\n",
       " [77, '007-0476-00000000040'],\n",
       " [67, '007-0521-00000000031'],\n",
       " [58, '007-0521-00000000101'],\n",
       " [54, '007-0344-02000000041'],\n",
       " [53, '007-0352-08000000040'],\n",
       " [52, 'R9020291800000000030'],\n",
       " [52, '1,34E+19'],\n",
       " [49, '7,28E+19'],\n",
       " [49, '007-0464-01000000100'],\n",
       " [38, '007-0355-02000000040'],\n",
       " [34, '007-0344-07000000101'],\n",
       " [30, '007-0477-00000000030'],\n",
       " [27, '007-0428-00000000041'],\n",
       " [24, 'F00BC201280000000020'],\n",
       " [19, 'R9020362500000000025'],\n",
       " [14, 'R9022197280000000030'],\n",
       " [12, 'R9099210390000000025'],\n",
       " [2, 'R9021374550000000030'],\n",
       " [1, 'R9020481270000000030']]"
      ]
     },
     "execution_count": 96,
     "metadata": {},
     "output_type": "execute_result"
    }
   ],
   "source": [
    "uretilenparcadurus"
   ]
  },
  {
   "cell_type": "code",
   "execution_count": 101,
   "id": "103d2ef7",
   "metadata": {},
   "outputs": [
    {
     "name": "stdout",
     "output_type": "stream",
     "text": [
      "Tablo oluşturuldu\n"
     ]
    }
   ],
   "source": [
    "komut_CREATE = \"\"\" CREATE TABLE uretilenparcadurus(\n",
    "                id SERIAL PRIMARY KEY,\n",
    "                uretilenparcaadi TEXT NOT NULL,\n",
    "                durussuresi INT NOT NULL\n",
    "                );\n",
    "                \"\"\"\n",
    "\n",
    "imlec.execute(komut_CREATE)\n",
    "db.commit()\n",
    "print (\"Tablo oluşturuldu\")"
   ]
  },
  {
   "cell_type": "code",
   "execution_count": 102,
   "id": "01348dd0",
   "metadata": {},
   "outputs": [
    {
     "name": "stdout",
     "output_type": "stream",
     "text": [
      "Records created successfully\n"
     ]
    }
   ],
   "source": [
    "for süre in uretilenparcadurus:\n",
    "    komut_INSERT = f\"INSERT INTO uretilenparcadurus(uretilenparcaadi,durussuresi) VALUES('{süre[1]}',{süre[0]});\"\n",
    "    imlec.execute(komut_INSERT)\n",
    "    db.commit()\n",
    "print (\"Records created successfully\")"
   ]
  },
  {
   "cell_type": "code",
   "execution_count": null,
   "id": "edf00887",
   "metadata": {},
   "outputs": [],
   "source": []
  }
 ],
 "metadata": {
  "kernelspec": {
   "display_name": "Python 3 (ipykernel)",
   "language": "python",
   "name": "python3"
  },
  "language_info": {
   "codemirror_mode": {
    "name": "ipython",
    "version": 3
   },
   "file_extension": ".py",
   "mimetype": "text/x-python",
   "name": "python",
   "nbconvert_exporter": "python",
   "pygments_lexer": "ipython3",
   "version": "3.8.8"
  }
 },
 "nbformat": 4,
 "nbformat_minor": 5
}
